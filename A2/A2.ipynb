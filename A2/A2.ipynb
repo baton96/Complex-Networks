{
 "cells": [
  {
   "cell_type": "code",
   "execution_count": 1,
   "metadata": {},
   "outputs": [],
   "source": [
    "from collections import defaultdict\n",
    "from itertools import combinations\n",
    "import matplotlib.pyplot as plt\n",
    "from scipy.special import gamma\n",
    "from time import time\n",
    "import igraph as ig\n",
    "import numpy as np\n",
    "# import powerlaw\n",
    "import random\n",
    "import heapq"
   ]
  },
  {
   "cell_type": "code",
   "execution_count": 2,
   "metadata": {},
   "outputs": [
    {
     "name": "stdout",
     "output_type": "stream",
     "text": [
      "n:10000, m: 20000, time: 10.7456 s\n"
     ]
    }
   ],
   "source": [
    "n = 10000\n",
    "m = int(2*n)\n",
    "\n",
    "def GNM(n, m):\n",
    "    forbiddenEdges = defaultdict(set)\n",
    "    rangeSet = set(range(n))\n",
    "    edges = []\n",
    "    for _ in range(m):\n",
    "        i = random.randrange(n)\n",
    "        j = random.choice(tuple(\n",
    "            rangeSet.difference(forbiddenEdges[i].union({i}))\n",
    "        ))\n",
    "        forbiddenEdges[i].add(j)\n",
    "        forbiddenEdges[j].add(i)\n",
    "        edges.append((i,j))    \n",
    "    g = ig.Graph(n) \n",
    "    g.add_edges(edges)\n",
    "    return g\n",
    "\n",
    "start = time()\n",
    "g = GNM(n, m)\n",
    "print(f\"n:{n}, m: {m}, time: {round(time()-start, 4)} s\")\n",
    "# g.save(f\"GNM/GNMn{n}m{m}.net\")\n",
    "# ig.plot(g, f\"GNM/GNMn{n}m{m}.png\")\n",
    "\n",
    "for n in (50, 100, 1000):\n",
    "    for i in range(1, 6):        \n",
    "        # GNM(n, n*i).save(f\"GNM/GNMn{n}m{n*i}.net\")\n",
    "        pass"
   ]
  },
  {
   "cell_type": "code",
   "execution_count": 3,
   "metadata": {},
   "outputs": [
    {
     "name": "stdout",
     "output_type": "stream",
     "text": [
      "n:10000, p: 0.1, time: 21.2432 s\n"
     ]
    }
   ],
   "source": [
    "n = 10000\n",
    "p = 0.1\n",
    "\n",
    "def GNP(n, p):       \n",
    "    possibleEdges = combinations(range(n), 2)\n",
    "    r = random.random    \n",
    "    g = ig.Graph(n)\n",
    "    g.add_edges(edge for edge in possibleEdges if r() < p)\n",
    "    return g\n",
    "\n",
    "start = time()\n",
    "g = GNP(n, p)\n",
    "print(f\"n:{n}, p: {p}, time: {round(time()-start, 4)} s\")\n",
    "# g.save(f\"GNP/GNPn{n}p{str(p).replace('.', '_')}.net\")\n",
    "# ig.plot(g, f\"GNP/GNPn{n}p{str(p).replace('.', '_')}.png\")\n",
    "\n",
    "for n in (50, 100, 1000):\n",
    "    for p in (0.0, 0.1, 0.2, 0.5, 0.9, 1.0):        \n",
    "        # GNP(n, p).save(f\"GNP/GNPn{n}p{str(p).replace('.', '_')}.net\")\n",
    "        pass"
   ]
  },
  {
   "cell_type": "code",
   "execution_count": 4,
   "metadata": {},
   "outputs": [
    {
     "name": "stdout",
     "output_type": "stream",
     "text": [
      "n:10000, p: 0.75, time: 9.2005 s\n"
     ]
    }
   ],
   "source": [
    "n = 10000\n",
    "p = 0.75\n",
    "\n",
    "def WS(n, p):\n",
    "    g = ig.Graph(n)\n",
    "    sources = list(range(n))\n",
    "    forbiddenEdges = {i: {i} for i in sources}\n",
    "    for i in (1, 2):\n",
    "        targets = sources[i:] + sources[0:i]\n",
    "        g.add_edges(list(zip(sources, targets)))\n",
    "        for source, target in zip(sources, targets):\n",
    "            forbiddenEdges[source].add(target)\n",
    "            forbiddenEdges[target].add(source)\n",
    "    sources = set(sources)\n",
    "    toDelete = []\n",
    "    toAdd = []\n",
    "    for i, old_j in g.get_edgelist():\n",
    "        if random.random() < p:\n",
    "            forbiddenEdges[i].remove(old_j)\n",
    "            forbiddenEdges[old_j].remove(i)\n",
    "            toDelete.append((i, old_j))\n",
    "            \n",
    "            new_j = random.choice(tuple(\n",
    "                sources.difference(forbiddenEdges[i])\n",
    "            ))\n",
    "            forbiddenEdges[i].add(new_j)\n",
    "            forbiddenEdges[new_j].add(i)\n",
    "            toAdd.append((i, new_j))            \n",
    "\n",
    "    g.delete_edges(toDelete)\n",
    "    g.add_edges(toAdd)\n",
    "    return g\n",
    "\n",
    "start = time()\n",
    "g = WS(n, p)\n",
    "print(f\"n:{n}, p: {p}, time: {round(time()-start, 4)} s\")\n",
    "# g.save(f\"WS/WSn{n}p{str(p).replace('.', '_')}.net\")\n",
    "# ig.plot(g, f\"WS/WSn{n}p{str(p).replace('.', '_')}.png\")\n",
    "\n",
    "for n in (50, 100, 1000):\n",
    "    for p in (0.0, 0.1, 0.2, 0.5, 0.9, 1.0):        \n",
    "        # WS(n, p).save(f\"WS/WSn{n}p{str(p).replace('.', '_')}.net\")\n",
    "        pass"
   ]
  },
  {
   "cell_type": "code",
   "execution_count": 16,
   "metadata": {},
   "outputs": [
    {
     "name": "stdout",
     "output_type": "stream",
     "text": [
      "n:10000, m: 5, m0: 5, time: 33.0029 s\n"
     ]
    }
   ],
   "source": [
    "n = 10000\n",
    "m0 = 5\n",
    "m = 5\n",
    "\n",
    "def BA(n, m, m0):\n",
    "    vertices = list(range(m0))\n",
    "    forbiddenEdges = set()\n",
    "    degrees = [m0-1] * m0    \n",
    "    edges = []    \n",
    "    for index in range(m0, n):\n",
    "        forbiddenEdges.clear()      \n",
    "        count = 0\n",
    "        while count < m:\n",
    "            target = random.choices(vertices, degrees)[0]\n",
    "            if target not in forbiddenEdges:\n",
    "                edges.append((index, target))\n",
    "                forbiddenEdges.add(target)\n",
    "                degrees[target] += 1                \n",
    "                count += 1\n",
    "        vertices.append(index)\n",
    "        degrees.append(m)\n",
    "    \n",
    "    g = ig.Graph.Full(n=m0)\n",
    "    g.add_vertices(n-m0)\n",
    "    g.add_edges(edges)\n",
    "    return g\n",
    "\n",
    "start = time()\n",
    "g = BA(n, m, m0)\n",
    "print(f\"n:{n}, m: {m}, m0: {m0}, time: {round(time()-start, 4)} s\")\n",
    "# g.save(f\"BA/BAn{n}m{m}M{m0}.net\")\n",
    "# ig.plot(g, f\"BA/BAn{n}m{m}M{m0}.png\")\n",
    "\n",
    "m0 = 5\n",
    "for n in (50, 100, 1000):\n",
    "    for m in (1, 2, 5):\n",
    "        # BA(n, m, m0).save(f\"BA/BAn{n}m{m}M{m0}.net\")\n",
    "        pass"
   ]
  },
  {
   "cell_type": "code",
   "execution_count": 102,
   "metadata": {},
   "outputs": [
    {
     "name": "stdout",
     "output_type": "stream",
     "text": [
      "n:10000, time: 19.2039 s\n"
     ]
    }
   ],
   "source": [
    "n = 10000\n",
    "distributions = {\n",
    "    \"gamma\": lambda n: np.random.gamma(5, 1, size=n).astype(int),\n",
    "    \"poisson\": lambda n: np.random.poisson(5, n)\n",
    "}\n",
    "\n",
    "def CM(n, distribution):    \n",
    "    forbiddenEdges = defaultdict(set)\n",
    "    g = ig.Graph(n)\n",
    "    edges = []\n",
    "    \n",
    "    degrees = [1]\n",
    "    while sum(degrees) % 2 != 0:\n",
    "        degrees = distribution(n)    \n",
    "    stubs = {i: degree for i, degree in enumerate(degrees) if degree>0}\n",
    "    heap = [(-degree, i) for i, degree in stubs.items()]    \n",
    "    rangeSet = set(stubs.keys()) \n",
    "    heapq.heapify(heap)    \n",
    "    \n",
    "    while stubs:     \n",
    "        source = None\n",
    "        while source not in stubs:\n",
    "            v, source = heapq.heappop(heap)\n",
    "        targets = rangeSet.difference(forbiddenEdges[source].union({source}))\n",
    "        target = random.choice(tuple(targets))        \n",
    "        \n",
    "        forbiddenEdges[source].add(target)\n",
    "        forbiddenEdges[target].add(source)\n",
    "        edges.append((source, target))\n",
    "\n",
    "        for idx in (source, target):\n",
    "            stubs[idx] -= 1\n",
    "            if stubs[idx] == 0:\n",
    "                rangeSet.remove(idx)\n",
    "                del stubs[idx]\n",
    "        \n",
    "        if source in stubs:\n",
    "            heapq.heappush(heap, (-stubs[source], source))\n",
    "        \n",
    "    g.add_edges(edges)\n",
    "    return g\n",
    "\n",
    "start = time()\n",
    "g = CM(n, distributions[\"gamma\"])\n",
    "print(f\"n:{n}, time: {round(time()-start, 4)} s\")\n",
    "# g.save(f\"CM/CMn{n}gamma.net\")\n",
    "# ig.plot(g, f\"CM/CMn{n}{name}.png\")\n",
    "for n in (50, 100, 1000):\n",
    "    for name, distribution in distributions.items():\n",
    "        # CM(n, distribution).save(f\"CM/CMn{n}{name}.net\")\n",
    "        pass"
   ]
  },
  {
   "cell_type": "code",
   "execution_count": 158,
   "metadata": {},
   "outputs": [
    {
     "data": {
      "image/png": "[encoded data removed]",
      "text/plain": [
       "<Figure size 432x288 with 1 Axes>"
      ]
     },
     "metadata": {
      "needs_background": "light"
     },
     "output_type": "display_data"
    }
   ],
   "source": [
    "g = ig.load(\"GNM/GNMn10000m20000.net\")\n",
    "degrees = g.degree()\n",
    "degreesMax = max(degrees)\n",
    "degreesSize = len(degrees)\n",
    "degreesMean = sum(degrees)/degreesSize\n",
    "\n",
    "poisson = np.random.poisson(degreesMean, size=degreesSize)\n",
    "poissonMax = max(poisson)\n",
    "\n",
    "plt.hist(degrees, density=True, alpha=0.5, label=\"Degrees\", bins=degreesMax)\n",
    "plt.hist(poisson, density=True, alpha=0.5, label=\"Poisson\", bins=poissonMax)\n",
    "plt.xticks(range(degreesMax+1))\n",
    "plt.legend()\n",
    "plt.show()"
   ]
  },
  {
   "cell_type": "code",
   "execution_count": 159,
   "metadata": {},
   "outputs": [
    {
     "data": {
      "image/png": "[encoded data removed]",
      "text/plain": [
       "<Figure size 432x288 with 1 Axes>"
      ]
     },
     "metadata": {
      "needs_background": "light"
     },
     "output_type": "display_data"
    }
   ],
   "source": [
    "g = ig.load(\"GNP/GNPn10000p0_001.net\")\n",
    "degrees = g.degree()\n",
    "degreesMax = max(degrees)\n",
    "degreesSize = len(degrees)\n",
    "degreesMean = sum(degrees)/degreesSize\n",
    "\n",
    "poisson = np.random.poisson(degreesMean, size=degreesSize)\n",
    "poissonMax = max(poisson)\n",
    "\n",
    "plt.hist(degrees, density=True, alpha=0.5, label=\"Degrees\", bins=degreesMax)\n",
    "plt.hist(poisson, density=True, alpha=0.5, label=\"Poisson\", bins=poissonMax)\n",
    "plt.xticks(range(degreesMax+1))\n",
    "plt.legend()\n",
    "plt.show()"
   ]
  },
  {
   "cell_type": "code",
   "execution_count": 4,
   "metadata": {},
   "outputs": [
    {
     "data": {
      "image/png": "[encoded data removed]",
      "text/plain": [
       "<Figure size 432x288 with 1 Axes>"
      ]
     },
     "metadata": {
      "needs_background": "light"
     },
     "output_type": "display_data"
    }
   ],
   "source": [
    "g = ig.load(\"WS/WSn10000p0_75.net\")\n",
    "x = g.degree()\n",
    "maxX = max(x)\n",
    "\n",
    "fig, ax = plt.subplots()\n",
    "plt.xticks(range(maxX+1))\n",
    "ax.hist(x, bins=maxX)\n",
    "ax.set_yscale('log')\n",
    "plt.show()"
   ]
  },
  {
   "cell_type": "code",
   "execution_count": 13,
   "metadata": {},
   "outputs": [
    {
     "data": {
      "image/png": "[encoded data removed]",
      "text/plain": [
       "<Figure size 432x288 with 1 Axes>"
      ]
     },
     "metadata": {
      "needs_background": "light"
     },
     "output_type": "display_data"
    }
   ],
   "source": [
    "g = ig.load(\"CM/CMn10000gamma.net\")\n",
    "degrees = g.degree()\n",
    "degreesMax = max(degrees)\n",
    "degreesSize = len(degrees)\n",
    "degreesStd = np.std(degrees)\n",
    "degreesMean = sum(degrees)/degreesSize\n",
    "\n",
    "shape = (degreesMean/degreesStd)**2\n",
    "scale = (degreesStd**2)/degreesMean\n",
    "\n",
    "heights, x = np.histogram(degrees, degreesMax, density=True)\n",
    "binWidth = x[1] - x[0]\n",
    "plt.bar(x[:-1], heights*binWidth, binWidth, alpha=0.5, label='Degrees')\n",
    "\n",
    "y = x**(shape-1)*(np.exp(-x/scale)/(gamma(shape)*scale**shape))\n",
    "plt.bar(x, y, binWidth, alpha=0.5, label=\"Gamma\")\n",
    "\n",
    "plt.legend()\n",
    "plt.show()"
   ]
  },
  {
   "cell_type": "code",
   "execution_count": 191,
   "metadata": {},
   "outputs": [
    {
     "data": {
      "image/png": "[encoded data removed]",
      "text/plain": [
       "<Figure size 432x288 with 1 Axes>"
      ]
     },
     "metadata": {
      "needs_background": "light"
     },
     "output_type": "display_data"
    }
   ],
   "source": [
    "g = ig.load(\"CM/CMn10000poisson.net\")\n",
    "degrees = g.degree()\n",
    "degreesMax = max(degrees)\n",
    "degreesSize = len(degrees)\n",
    "degreesMean = sum(degrees)/degreesSize\n",
    "\n",
    "poisson = np.random.poisson(xMean, size=xSize)\n",
    "poissonMax = max(poisson)\n",
    "\n",
    "plt.hist(degrees, alpha=0.5, label=\"Degrees\", bins=degreesMax)\n",
    "plt.hist(poisson, alpha=0.5, label=\"Poisson\", bins=poissonMax)\n",
    "plt.xticks(range(maxX+1))\n",
    "plt.legend()\n",
    "plt.show()"
   ]
  },
  {
   "cell_type": "code",
   "execution_count": 55,
   "metadata": {},
   "outputs": [
    {
     "name": "stderr",
     "output_type": "stream",
     "text": [
      "Calculating best minimal value for power law fit\n",
      "c:\\users\\pc\\appdata\\local\\programs\\python\\python37\\lib\\site-packages\\powerlaw.py:700: RuntimeWarning: invalid value encountered in true_divide\n",
      "  (Theoretical_CDF * (1 - Theoretical_CDF))\n"
     ]
    },
    {
     "name": "stdout",
     "output_type": "stream",
     "text": [
      "2.9864301116017247\n"
     ]
    },
    {
     "data": {
      "image/png": "[encoded data removed]",
      "text/plain": [
       "<Figure size 432x288 with 1 Axes>"
      ]
     },
     "metadata": {
      "needs_background": "light"
     },
     "output_type": "display_data"
    }
   ],
   "source": [
    "import powerlaw\n",
    "\n",
    "g = ig.load(\"BA/BAn10000m5M5.net\")\n",
    "data = g.degree()\n",
    "\n",
    "fit = powerlaw.Fit(data)\n",
    "print(fit.power_law.alpha)\n",
    "\n",
    "figCCDF = fit.plot_pdf(label=\"Empirical PDF\")\n",
    "fit.power_law.plot_pdf(ax=figCCDF, label=\"Theoretical PDF\")\n",
    "\n",
    "fit.plot_ccdf(ax=figCCDF, label=\"Empirical CCDF\")\n",
    "fit.power_law.plot_ccdf(ax=figCCDF, label=\"Theoretical CCDF\")\n",
    "\n",
    "plt.legend()\n",
    "plt.show()"
   ]
  },
  {
   "cell_type": "code",
   "execution_count": 11,
   "metadata": {},
   "outputs": [
    {
     "name": "stdout",
     "output_type": "stream",
     "text": [
      "2.7461345874533096\n"
     ]
    }
   ],
   "source": [
    "import math\n",
    "g = ig.load(\"BA/BAn10000m5M5.net\")\n",
    "ks = g.degree()\n",
    "denominator = min(ks) - 1/2\n",
    "y = 1 + len(ks)/sum(math.log(k/denominator) for k in ks)\n",
    "print(y)"
   ]
  },
  {
   "cell_type": "code",
   "execution_count": 14,
   "metadata": {},
   "outputs": [
    {
     "data": {
      "image/png": "[encoded data removed]",
      "text/plain": [
       "<Figure size 432x288 with 1 Axes>"
      ]
     },
     "metadata": {
      "needs_background": "light"
     },
     "output_type": "display_data"
    }
   ],
   "source": [
    "def parseFloat(number):\n",
    "    return ('%f' % number).rstrip('0').rstrip('.')\n",
    "fig, ax = plt.subplots()\n",
    "\n",
    "g = ig.load(\"BA/BAn10000m5M5.net\")\n",
    "degrees = np.log(g.degree())\n",
    "\n",
    "ax.hist(degrees)\n",
    "xticks = ax.get_xticks()\n",
    "labels = [\"$2^{%s}$\" % parseFloat(tick) for tick in xticks]\n",
    "\n",
    "ax.set_xticks(xticks[1:-1])\n",
    "ax.set_xticklabels(labels[1:-1])\n",
    "\n",
    "ax.set_yscale('log', base=2)\n",
    "plt.show()"
   ]
  },
  {
   "cell_type": "code",
   "execution_count": 15,
   "metadata": {},
   "outputs": [
    {
     "data": {
      "image/png": "[encoded data removed]",
      "text/plain": [
       "<Figure size 432x288 with 1 Axes>"
      ]
     },
     "metadata": {
      "needs_background": "light"
     },
     "output_type": "display_data"
    }
   ],
   "source": [
    "g = ig.load(\"BA/BAn10000m5M5.net\")\n",
    "degrees = g.degree()\n",
    "degreesSize = len(degrees)\n",
    "degreesMean = sum(degrees)/degreesSize\n",
    "degreesMax = max(degrees)\n",
    "degreesMaxSqrt = int(np.sqrt(degreesMax))\n",
    "n = degreesMaxSqrt\n",
    "\n",
    "plt.hist(degrees, density=True)\n",
    "plt.show()"
   ]
  },
  {
   "cell_type": "code",
   "execution_count": 6,
   "metadata": {},
   "outputs": [
    {
     "data": {
      "image/png": "[encoded data removed]",
      "text/plain": [
       "<Figure size 432x288 with 1 Axes>"
      ]
     },
     "metadata": {
      "needs_background": "light"
     },
     "output_type": "display_data"
    }
   ],
   "source": [
    "y1, x = np.histogram(degrees, bins=degreesMax, density=True)\n",
    "width = x[1] - x[0]\n",
    "\n",
    "y2 = x**(-3)\n",
    "y2 /= y2[0]/y1[0]\n",
    "\n",
    "plt.bar(x[:n], y1[:n]*width, width, alpha=0.5, label='Degrees')\n",
    "plt.bar(x[:n], y2[:n]*width, width, alpha=0.5, label='Powerlaw')\n",
    "plt.legend()\n",
    "plt.show()"
   ]
  }
 ],
 "metadata": {
  "kernelspec": {
   "display_name": "Python 3",
   "language": "python",
   "name": "python3"
  },
  "language_info": {
   "codemirror_mode": {
    "name": "ipython",
    "version": 3
   },
   "file_extension": ".py",
   "mimetype": "text/x-python",
   "name": "python",
   "nbconvert_exporter": "python",
   "pygments_lexer": "ipython3",
   "version": "3.7.9"
  }
 },
 "nbformat": 4,
 "nbformat_minor": 4
}
