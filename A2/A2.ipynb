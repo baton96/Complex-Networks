{
 "cells": [
  {
   "cell_type": "code",
   "execution_count": 1,
   "metadata": {},
   "outputs": [],
   "source": [
    "from collections import defaultdict\n",
    "from itertools import combinations\n",
    "import matplotlib.pyplot as plt\n",
    "from time import time\n",
    "import igraph as ig\n",
    "import numpy as np\n",
    "import random\n",
    "import heapq"
   ]
  },
  {
   "cell_type": "code",
   "execution_count": 2,
   "metadata": {},
   "outputs": [
    {
     "name": "stdout",
     "output_type": "stream",
     "text": [
      "n:10000, m: 20000, time: 10.7456 s\n"
     ]
    }
   ],
   "source": [
    "n = 10000\n",
    "m = int(2*n)\n",
    "\n",
    "def GNM(n, m):\n",
    "    forbiddenEdges = defaultdict(set)\n",
    "    rangeSet = set(range(n))    \n",
    "    edges = []\n",
    "    for _ in range(m):\n",
    "        i = random.randrange(n)\n",
    "        j = random.choice(tuple(\n",
    "            rangeSet.difference(forbiddenEdges[i].union({i}))\n",
    "        ))\n",
    "        forbiddenEdges[i].add(j)\n",
    "        forbiddenEdges[j].add(i)\n",
    "        edges.append((i,j))    \n",
    "    g = ig.Graph(n) \n",
    "    g.add_edges(edges)\n",
    "    return g\n",
    "\n",
    "start = time()\n",
    "g = GNM(n, m)\n",
    "print(f\"n:{n}, m: {m}, time: {round(time()-start, 4)} s\")\n",
    "#g.save(f\"GNM/GNMn{n}m{m}.net\")\n",
    "#ig.plot(g, f\"GNM/GNMn{n}m{m}.png\")\n",
    "\n",
    "for n in (50, 100, 1000):\n",
    "    for i in range(1, 6):        \n",
    "        #GNM(n, n*i).save(f\"GNM/GNMn{n}m{n*i}.net\")\n",
    "        pass"
   ]
  },
  {
   "cell_type": "code",
   "execution_count": 3,
   "metadata": {},
   "outputs": [
    {
     "name": "stdout",
     "output_type": "stream",
     "text": [
      "n:10000, p: 0.1, time: 21.2432 s\n"
     ]
    }
   ],
   "source": [
    "n = 10000\n",
    "p = 0.1\n",
    "\n",
    "def GNP(n, p):       \n",
    "    possibleEdges = combinations(range(n), 2)\n",
    "    r = random.random    \n",
    "    g = ig.Graph(n)\n",
    "    g.add_edges(edge for edge in possibleEdges if r() < p)\n",
    "    return g\n",
    "\n",
    "start = time()\n",
    "g = GNP(n, p)\n",
    "print(f\"n:{n}, p: {p}, time: {round(time()-start, 4)} s\")\n",
    "#g.save(f\"GNP/GNPn{n}p{str(p).replace('.', '_')}.net\")\n",
    "#ig.plot(g, f\"GNP/GNPn{n}p{str(p).replace('.', '_')}.png\")\n",
    "\n",
    "for n in (50, 100, 1000):\n",
    "    for p in (0.0, 0.1, 0.2, 0.5, 0.9, 1.0):        \n",
    "        #GNP(n, p).save(f\"GNP/GNPn{n}p{str(p).replace('.', '_')}.net\")\n",
    "        pass"
   ]
  },
  {
   "cell_type": "code",
   "execution_count": 4,
   "metadata": {},
   "outputs": [
    {
     "name": "stdout",
     "output_type": "stream",
     "text": [
      "n:10000, p: 0.75, time: 9.2005 s\n"
     ]
    }
   ],
   "source": [
    "n = 10000\n",
    "p = 0.75\n",
    "\n",
    "def WS(n, p):\n",
    "    g = ig.Graph(n)\n",
    "    sources = list(range(n))\n",
    "    forbiddenEdges = {i: {i} for i in sources}\n",
    "    for i in (1, 2):\n",
    "        targets = sources[i:] + sources[0:i]\n",
    "        g.add_edges(list(zip(sources, targets)))\n",
    "        for source, target in zip(sources, targets):\n",
    "            forbiddenEdges[source].add(target)\n",
    "            forbiddenEdges[target].add(source)\n",
    "    sources = set(sources)\n",
    "    toDelete = []\n",
    "    toAdd = []\n",
    "    for i, old_j in g.get_edgelist():\n",
    "        if random.random() < p:\n",
    "            forbiddenEdges[i].remove(old_j)\n",
    "            forbiddenEdges[old_j].remove(i)\n",
    "            toDelete.append((i, old_j))\n",
    "            \n",
    "            new_j = random.choice(tuple(\n",
    "                sources.difference(forbiddenEdges[i])\n",
    "            ))\n",
    "            forbiddenEdges[i].add(new_j)\n",
    "            forbiddenEdges[new_j].add(i)\n",
    "            toAdd.append((i, new_j))            \n",
    "\n",
    "    g.delete_edges(toDelete)\n",
    "    g.add_edges(toAdd)\n",
    "    return g\n",
    "\n",
    "start = time()\n",
    "g = WS(n, p)\n",
    "print(f\"n:{n}, p: {p}, time: {round(time()-start, 4)} s\")\n",
    "#g.save(f\"WS/WSn{n}p{str(p).replace('.', '_')}.net\")\n",
    "#ig.plot(g, f\"WS/WSn{n}p{str(p).replace('.', '_')}.png\")\n",
    "\n",
    "for n in (50, 100, 1000):\n",
    "    for p in (0.0, 0.1, 0.2, 0.5, 0.9, 1.0):        \n",
    "        #WS(n, p).save(f\"WS/WSn{n}p{str(p).replace('.', '_')}.net\")\n",
    "        pass"
   ]
  },
  {
   "cell_type": "code",
   "execution_count": 16,
   "metadata": {},
   "outputs": [
    {
     "name": "stdout",
     "output_type": "stream",
     "text": [
      "n:10000, m: 5, m0: 5, time: 33.0029 s\n"
     ]
    }
   ],
   "source": [
    "n = 10000\n",
    "m0 = 5\n",
    "m = 5\n",
    "\n",
    "def BA(n, m, m0):\n",
    "    vertices = list(range(m0))\n",
    "    forbiddenEdges = set()\n",
    "    degrees = [m0-1] * m0    \n",
    "    edges = []    \n",
    "    for index in range(m0, n):\n",
    "        forbiddenEdges.clear()      \n",
    "        count = 0\n",
    "        while count < m:\n",
    "            target = random.choices(vertices, degrees)[0]\n",
    "            if target not in forbiddenEdges:\n",
    "                edges.append((index, target))\n",
    "                forbiddenEdges.add(target)\n",
    "                degrees[target] += 1                \n",
    "                count += 1\n",
    "        vertices.append(index)\n",
    "        degrees.append(m)\n",
    "    \n",
    "    g = ig.Graph.Full(n=m0)\n",
    "    g.add_vertices(n-m0)\n",
    "    g.add_edges(edges)\n",
    "    return g\n",
    "\n",
    "start = time()\n",
    "g = BA(n, m, m0)\n",
    "print(f\"n:{n}, m: {m}, m0: {m0}, time: {round(time()-start, 4)} s\")\n",
    "#g.save(f\"BA/BAn{n}m{m}M{m0}.net\")\n",
    "#ig.plot(g, f\"BA/BAn{n}m{m}M{m0}.png\")\n",
    "\n",
    "m0 = 5\n",
    "for n in (50, 100, 1000):\n",
    "    for m in (1, 2, 5):\n",
    "        #BA(n, m, m0).save(f\"BA/BAn{n}m{m}M{m0}.net\")\n",
    "        pass"
   ]
  },
  {
   "cell_type": "code",
   "execution_count": 6,
   "metadata": {},
   "outputs": [
    {
     "name": "stdout",
     "output_type": "stream",
     "text": [
      "n:10000, time: 18.6481 s\n"
     ]
    }
   ],
   "source": [
    "n = 10000\n",
    "distributions = {\n",
    "    \"gamma\": lambda n: np.random.gamma(5, 1, size=n).astype(int),\n",
    "    \"poisson\": lambda n: np.random.poisson(5, n)\n",
    "}\n",
    "\n",
    "def CM(n, distribution):    \n",
    "    forbiddenEdges = defaultdict(set)\n",
    "    g = ig.Graph(n)\n",
    "    edges = []\n",
    "    \n",
    "    degrees = [1]\n",
    "    while sum(degrees) % 2 != 0:\n",
    "        degrees = distribution(n)    \n",
    "    stubs = {i: degree for i, degree in enumerate(degrees) if degree>0}\n",
    "    heap = [(-degree, i) for i, degree in stubs.items()]    \n",
    "    rangeSet = set(stubs.keys()) \n",
    "    heapq.heapify(heap)    \n",
    "    \n",
    "    while stubs:     \n",
    "        source = None\n",
    "        while source not in stubs:\n",
    "            v, source = heapq.heappop(heap)\n",
    "        targets = rangeSet.difference(forbiddenEdges[source].union({source}))\n",
    "        target = random.choice(tuple(targets))        \n",
    "        \n",
    "        forbiddenEdges[source].add(target)\n",
    "        forbiddenEdges[target].add(source)\n",
    "        edges.append((source, target))\n",
    "\n",
    "        for idx in (source, target):\n",
    "            stubs[idx] -= 1\n",
    "            if stubs[idx] == 0:\n",
    "                rangeSet.remove(idx)\n",
    "                del stubs[idx]\n",
    "        \n",
    "        if source in stubs:\n",
    "            heapq.heappush(heap, (-stubs[source], source))\n",
    "        \n",
    "    g.add_edges(edges)\n",
    "    return g\n",
    "\n",
    "start = time()\n",
    "g = CM(n, distributions[\"gamma\"])\n",
    "print(f\"n:{n}, time: {round(time()-start, 4)} s\")\n",
    "#g.save(f\"CM/CMn{n}gamma.net\")\n",
    "#ig.plot(g, f\"CM/CMn{n}{name}.png\")\n",
    "for n in (50, 100, 1000):\n",
    "    for name, distribution in distributions.items():\n",
    "        #CM(n, distribution).save(f\"CM/CMn{n}{name}.net\")\n",
    "        pass"
   ]
  },
  {
   "cell_type": "code",
   "execution_count": 7,
   "metadata": {},
   "outputs": [
    {
     "data": {
      "image/png": "[encoded data removed]",
      "text/plain": [
       "<Figure size 432x288 with 1 Axes>"
      ]
     },
     "metadata": {
      "needs_background": "light"
     },
     "output_type": "display_data"
    }
   ],
   "source": [
    "fig, ax = plt.subplots()\n",
    "g = ig.load(\"GNM/GNMn10000m20000.net\")\n",
    "x = g.degree()\n",
    "maxX = max(x)\n",
    "plt.xticks(range(maxX+1))\n",
    "ax.hist(x, bins=maxX)\n",
    "ax.set_yscale('log')\n",
    "plt.show()"
   ]
  },
  {
   "cell_type": "code",
   "execution_count": 8,
   "metadata": {},
   "outputs": [
    {
     "data": {
      "image/png": "[encoded data removed]",
      "text/plain": [
       "<Figure size 432x288 with 1 Axes>"
      ]
     },
     "metadata": {
      "needs_background": "light"
     },
     "output_type": "display_data"
    }
   ],
   "source": [
    "fig, ax = plt.subplots()\n",
    "g = ig.load(\"GNP/GNPn10000p0_001.net\")\n",
    "x = g.degree()\n",
    "maxX = max(x)\n",
    "plt.xticks(range(maxX+1))\n",
    "ax.hist(x, bins=maxX)\n",
    "ax.set_yscale('log')\n",
    "plt.show()"
   ]
  },
  {
   "cell_type": "code",
   "execution_count": 9,
   "metadata": {},
   "outputs": [
    {
     "data": {
      "image/png": "[encoded data removed]",
      "text/plain": [
       "<Figure size 432x288 with 1 Axes>"
      ]
     },
     "metadata": {
      "needs_background": "light"
     },
     "output_type": "display_data"
    }
   ],
   "source": [
    "fig, ax = plt.subplots()\n",
    "g = ig.load(\"WS/WSn10000p0_75.net\")\n",
    "x = g.degree()\n",
    "maxX = max(x)\n",
    "plt.xticks(range(maxX+1))\n",
    "ax.hist(x, bins=maxX)\n",
    "ax.set_yscale('log')\n",
    "plt.show()"
   ]
  },
  {
   "cell_type": "code",
   "execution_count": 10,
   "metadata": {},
   "outputs": [
    {
     "data": {
      "image/png": "[encoded data removed]",
      "text/plain": [
       "<Figure size 432x288 with 1 Axes>"
      ]
     },
     "metadata": {
      "needs_background": "light"
     },
     "output_type": "display_data"
    }
   ],
   "source": [
    "fig, ax = plt.subplots()\n",
    "g = ig.load(\"BA/BAn10000m5M5.net\")\n",
    "x = np.log(g.degree())\n",
    "ax.hist(x)\n",
    "ax.set_yscale('log')\n",
    "plt.show()"
   ]
  },
  {
   "cell_type": "code",
   "execution_count": 11,
   "metadata": {},
   "outputs": [
    {
     "data": {
      "image/png": "[encoded data removed]",
      "text/plain": [
       "<Figure size 432x288 with 1 Axes>"
      ]
     },
     "metadata": {
      "needs_background": "light"
     },
     "output_type": "display_data"
    }
   ],
   "source": [
    "fig, ax = plt.subplots()\n",
    "g = ig.load(\"CM/CMn10000gamma.net\")\n",
    "ax.hist(g.degree())\n",
    "plt.show()"
   ]
  },
  {
   "cell_type": "code",
   "execution_count": 12,
   "metadata": {},
   "outputs": [
    {
     "data": {
      "image/png": "[encoded data removed]",
      "text/plain": [
       "<Figure size 432x288 with 1 Axes>"
      ]
     },
     "metadata": {
      "needs_background": "light"
     },
     "output_type": "display_data"
    }
   ],
   "source": [
    "fig, ax = plt.subplots()\n",
    "g = ig.load(\"CM/CMn10000poisson.net\")\n",
    "ax.hist(g.degree())\n",
    "plt.show()"
   ]
  },
  {
   "cell_type": "code",
   "execution_count": 13,
   "metadata": {},
   "outputs": [
    {
     "data": {
      "image/png": "[encoded data removed]",
      "text/plain": [
       "<Figure size 432x288 with 1 Axes>"
      ]
     },
     "metadata": {
      "needs_background": "light"
     },
     "output_type": "display_data"
    }
   ],
   "source": [
    "from scipy.special import factorial\n",
    "k = 5\n",
    "fig, ax = plt.subplots()\n",
    "n = 10000\n",
    "s = np.random.poisson(k, n)\n",
    "maxS = max(s)\n",
    "count, bins, ignored = ax.hist(s, bins=maxS, density=True)\n",
    "\n",
    "#ax.set_yscale('log')\n",
    "t = range(maxS+1)\n",
    "d = np.exp(-k)*np.power(k, t)/factorial(t)\n",
    "plt.plot(d)\n",
    "\n",
    "plt.xticks(t)\n",
    "plt.show()"
   ]
  },
  {
   "cell_type": "code",
   "execution_count": 14,
   "metadata": {},
   "outputs": [
    {
     "data": {
      "image/png": "[encoded data removed]",
      "text/plain": [
       "<Figure size 432x288 with 1 Axes>"
      ]
     },
     "metadata": {
      "needs_background": "light"
     },
     "output_type": "display_data"
    }
   ],
   "source": [
    "fig, ax = plt.subplots()\n",
    "shape = 5\n",
    "scale = 1\n",
    "n = 1000\n",
    "s = np.random.gamma(shape, scale, size=n).astype(int)\n",
    "sMax = max(s)\n",
    "import scipy.special as sps\n",
    "count, bins, ignored = plt.hist(s, sMax, density=True)\n",
    "y = bins**(shape-1)*(np.exp(-bins/scale) / (sps.gamma(shape)*scale**shape))\n",
    "ax.plot(bins, y)  \n",
    "#ax.set_yscale('log')\n",
    "#plt.xticks(range(sMax+1))\n",
    "plt.show()"
   ]
  },
  {
   "cell_type": "code",
   "execution_count": 17,
   "metadata": {},
   "outputs": [
    {
     "name": "stderr",
     "output_type": "stream",
     "text": [
      "Calculating best minimal value for power law fit\n",
      "c:\\users\\pc\\appdata\\local\\programs\\python\\python37\\lib\\site-packages\\powerlaw.py:700: RuntimeWarning: invalid value encountered in true_divide\n",
      "  (Theoretical_CDF * (1 - Theoretical_CDF))\n"
     ]
    },
    {
     "name": "stdout",
     "output_type": "stream",
     "text": [
      "Should be: 3 0\n",
      "Is: 2.9864301116017247 0.07439239231299492\n"
     ]
    },
    {
     "data": {
      "image/png": "[encoded data removed]",
      "text/plain": [
       "<Figure size 432x288 with 1 Axes>"
      ]
     },
     "metadata": {
      "needs_background": "light"
     },
     "output_type": "display_data"
    }
   ],
   "source": [
    "import powerlaw\n",
    "\n",
    "g = ig.load(\"BA/BAn10000m5M5.net\")\n",
    "data = g.degree()\n",
    "\n",
    "fit = powerlaw.Fit(data)\n",
    "print(\"Should be: 3 0\")\n",
    "print(\"Is:\", fit.power_law.alpha, fit.power_law.sigma)\n",
    "#print(fit.distribution_compare('power_law', 'exponential'))\n",
    "\n",
    "figCCDF = fit.plot_pdf(label=\"Empirical PDF\")\n",
    "fit.power_law.plot_pdf(ax=figCCDF, label=\"Theoretical PDF\")\n",
    "\n",
    "fit.plot_ccdf(ax=figCCDF, label=\"Empirical CCDF\")\n",
    "fit.power_law.plot_ccdf(ax=figCCDF, label=\"Theoretical CCDF\")\n",
    "\n",
    "\n",
    "plt.legend()\n",
    "plt.show()"
   ]
  },
  {
   "cell_type": "code",
   "execution_count": 18,
   "metadata": {},
   "outputs": [
    {
     "name": "stdout",
     "output_type": "stream",
     "text": [
      "1.174613458745331\n"
     ]
    }
   ],
   "source": [
    "import math\n",
    "g = ig.load(\"BA/BAn10000m5M5.net\")\n",
    "ks = g.degree()\n",
    "denominator = min(ks) - 1/2\n",
    "y = 1 + n/sum(math.log(k/denominator) for k in ks)\n",
    "print(y)"
   ]
  },
  {
   "cell_type": "code",
   "execution_count": null,
   "metadata": {},
   "outputs": [],
   "source": []
  }
 ],
 "metadata": {
  "kernelspec": {
   "display_name": "Python 3",
   "language": "python",
   "name": "python3"
  },
  "language_info": {
   "codemirror_mode": {
    "name": "ipython",
    "version": 3
   },
   "file_extension": ".py",
   "mimetype": "text/x-python",
   "name": "python",
   "nbconvert_exporter": "python",
   "pygments_lexer": "ipython3",
   "version": "3.7.9"
  }
 },
 "nbformat": 4,
 "nbformat_minor": 4
}
