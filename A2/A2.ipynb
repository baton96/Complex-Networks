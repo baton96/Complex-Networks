{
 "cells": [
  {
   "cell_type": "code",
   "execution_count": 1,
   "metadata": {},
   "outputs": [],
   "source": [
    "from collections import defaultdict\n",
    "from itertools import combinations\n",
    "from time import time\n",
    "import igraph as ig\n",
    "import numpy as np\n",
    "import random\n",
    "import heapq"
   ]
  },
  {
   "cell_type": "code",
   "execution_count": 2,
   "metadata": {},
   "outputs": [
    {
     "name": "stdout",
     "output_type": "stream",
     "text": [
      "n:10000, m: 20000, time: 10.2656 s\n"
     ]
    }
   ],
   "source": [
    "n = 10000\n",
    "m = int(2*n)\n",
    "\n",
    "def GNM(n, m):\n",
    "    forbiddenEdges = defaultdict(set)\n",
    "    rangeSet = set(range(n))    \n",
    "    edges = []\n",
    "    for _ in range(m):\n",
    "        i = random.randrange(n)\n",
    "        j = random.choice(tuple(\n",
    "            rangeSet.difference(forbiddenEdges[i].union({i}))\n",
    "        ))        \n",
    "        forbiddenEdges[i].add(j)\n",
    "        forbiddenEdges[j].add(i)\n",
    "        edges.append((i,j))    \n",
    "    g = ig.Graph(n) \n",
    "    g.add_edges(edges)\n",
    "    return g\n",
    "\n",
    "start = time()\n",
    "g = GNM(n, m)\n",
    "print(f\"n:{n}, m: {m}, time: {round(time()-start, 4)} s\")\n",
    "#g.save(f\"GNMn{n}m{m}.net\")\n",
    "#ig.plot(g)"
   ]
  },
  {
   "cell_type": "code",
   "execution_count": 3,
   "metadata": {},
   "outputs": [
    {
     "name": "stdout",
     "output_type": "stream",
     "text": [
      "n:10000, p: 0.1, time: 7.9285 s\n"
     ]
    }
   ],
   "source": [
    "n = 10000\n",
    "p = 0.1\n",
    "\n",
    "def GNP(n, p):       \n",
    "    possibleEdges = combinations(range(n), 2)\n",
    "    r = random.random    \n",
    "    g = ig.Graph(n)\n",
    "    g.add_edges(edge for edge in possibleEdges if r() < p)\n",
    "    return g\n",
    "\n",
    "start = time()\n",
    "g = GNP(n, p)\n",
    "print(f\"n:{n}, p: {p}, time: {round(time()-start, 4)} s\")\n",
    "#g.save(f\"GNPn{n}p{str(p).replace('.', '_')}.net\")\n",
    "#ig.plot(g)"
   ]
  },
  {
   "cell_type": "code",
   "execution_count": 4,
   "metadata": {},
   "outputs": [
    {
     "name": "stdout",
     "output_type": "stream",
     "text": [
      "n:10000, p: 0.75, time: 3.2512 s\n"
     ]
    }
   ],
   "source": [
    "n = 10000\n",
    "p = 0.75\n",
    "\n",
    "def WS(n, p):\n",
    "    g = ig.Graph(n)\n",
    "    sources = list(range(n))\n",
    "    forbiddenEdges = {i: {i} for i in sources}\n",
    "    for i in (1, 2):\n",
    "        targets = sources[i:] + sources[0:i]\n",
    "        g.add_edges(list(zip(sources, targets)))\n",
    "        for source, target in zip(sources, targets):\n",
    "            forbiddenEdges[source].add(target)\n",
    "            forbiddenEdges[target].add(source)\n",
    "    sources = set(sources)\n",
    "    toDelete = []\n",
    "    toAdd = []\n",
    "    for old_i, old_j in g.get_edgelist():\n",
    "        if random.random() < p:\n",
    "            forbiddenEdges[old_i].remove(old_j)\n",
    "            forbiddenEdges[old_j].remove(old_i)\n",
    "            toDelete.append((old_i, old_j))\n",
    "            \n",
    "            new_i = random.randrange(n)\n",
    "            new_j = random.choice(tuple(\n",
    "                sources.difference(forbiddenEdges[new_i])\n",
    "            ))\n",
    "            forbiddenEdges[new_i].add(new_j)\n",
    "            forbiddenEdges[new_j].add(new_i)\n",
    "            toAdd.append((new_i, new_j))            \n",
    "\n",
    "    g.delete_edges(toDelete)\n",
    "    g.add_edges(toAdd)\n",
    "    return g\n",
    "\n",
    "start = time()\n",
    "g = WS(n, p)\n",
    "print(f\"n:{n}, p: {p}, time: {round(time()-start, 4)} s\")\n",
    "#g.save(f\"WSn{n}p{str(p).replace('.', '_')}.net\")\n",
    "#ig.plot(g)"
   ]
  },
  {
   "cell_type": "code",
   "execution_count": 10,
   "metadata": {},
   "outputs": [
    {
     "name": "stdout",
     "output_type": "stream",
     "text": [
      "n:10000, m: 5, m0: 5, time: 18.8221 s\n"
     ]
    }
   ],
   "source": [
    "n = 10000\n",
    "m0 = 5\n",
    "m = 5\n",
    "\n",
    "def BA(n, m, m0):\n",
    "    vertices = list(range(m0))\n",
    "    forbiddenEdges = set()\n",
    "    degrees = [m0-1] * m0    \n",
    "    edges = []    \n",
    "    for index in range(m0, n):\n",
    "        forbiddenEdges.clear()      \n",
    "        count = 0\n",
    "        while count < m:\n",
    "            target = random.choices(vertices, degrees)[0]\n",
    "            if target not in forbiddenEdges:\n",
    "                edges.append((index, target))\n",
    "                forbiddenEdges.add(target)\n",
    "                degrees[target] += 1                \n",
    "                count += 1\n",
    "        vertices.append(index)\n",
    "        degrees.append(m)\n",
    "    \n",
    "    g = ig.Graph.Full(n=m0)\n",
    "    g.add_vertices(n-m0)\n",
    "    g.add_edges(edges)\n",
    "    return g\n",
    "\n",
    "start = time()\n",
    "g = BA(n, m, m0)\n",
    "print(f\"n:{n}, m: {m}, m0: {m0}, time: {round(time()-start, 4)} s\")\n",
    "#g.save(f\"BAn{n}m{m}M{m0}.net\")\n",
    "#ig.plot(g)"
   ]
  },
  {
   "cell_type": "code",
   "execution_count": 5,
   "metadata": {},
   "outputs": [
    {
     "name": "stdout",
     "output_type": "stream",
     "text": [
      "n:10000, time: 10.5036 s\n"
     ]
    }
   ],
   "source": [
    "n = 10000\n",
    "\n",
    "def CM(n):\n",
    "    forbiddenEdges = defaultdict(set)\n",
    "    rangeSet = set(range(n))\n",
    "    g = ig.Graph(n)\n",
    "    degrees = [1]\n",
    "    edges = []\n",
    "\n",
    "    while sum(degrees) % 2 != 0:\n",
    "        degrees = np.random.randint(1, 5, n)\n",
    "    stubs = dict(enumerate(degrees))    \n",
    "    heap = [(-val, i) for i, val in enumerate(degrees)]\n",
    "    heapq.heapify(heap)\n",
    "    \n",
    "    while stubs:     \n",
    "        source = None\n",
    "        while source not in stubs:\n",
    "            v, source = heapq.heappop(heap)\n",
    "        targets = rangeSet.difference(forbiddenEdges[source].union({source}))\n",
    "        target = random.choice(tuple(targets))        \n",
    "        \n",
    "        forbiddenEdges[source].add(target)\n",
    "        forbiddenEdges[target].add(source)\n",
    "        edges.append((source, target))\n",
    "\n",
    "        for idx in (source, target):\n",
    "            stubs[idx] -= 1\n",
    "            if stubs[idx] == 0:\n",
    "                rangeSet.remove(idx)\n",
    "                del stubs[idx]\n",
    "        \n",
    "        if source in stubs:\n",
    "            heapq.heappush(heap, (-stubs[source], source))\n",
    "        \n",
    "    g.add_edges(edges)\n",
    "    return g\n",
    "\n",
    "start = time()\n",
    "g = CM(n)\n",
    "print(f\"n:{n}, time: {round(time()-start, 4)} s\")\n",
    "#g.save(f\"CMn{n}.net\")\n",
    "#ig.plot(g)"
   ]
  }
 ],
 "metadata": {
  "kernelspec": {
   "display_name": "Python 3",
   "language": "python",
   "name": "python3"
  },
  "language_info": {
   "codemirror_mode": {
    "name": "ipython",
    "version": 3
   },
   "file_extension": ".py",
   "mimetype": "text/x-python",
   "name": "python",
   "nbconvert_exporter": "python",
   "pygments_lexer": "ipython3",
   "version": "3.7.9"
  }
 },
 "nbformat": 4,
 "nbformat_minor": 4
}
