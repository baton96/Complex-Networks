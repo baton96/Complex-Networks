{
 "cells": [
  {
   "cell_type": "code",
   "execution_count": 18,
   "metadata": {},
   "outputs": [],
   "source": [
    "#! /usr/local/Cellar/jupyterlab/2.2.8/libexec/bin/python3.8 -m pip install networkx\n",
    "import sklearn.metrics\n",
    "import networkx as nx\n",
    "from glob import glob\n",
    "import igraph as ig\n",
    "import numpy as np\n",
    "import pandas as pd\n",
    "import re\n",
    "import os"
   ]
  },
  {
   "cell_type": "code",
   "execution_count": 10,
   "metadata": {},
   "outputs": [],
   "source": [
    "def read_graph(path):\n",
    "    edges = []\n",
    "    labels = []\n",
    "    with open(path, 'r') as f:\n",
    "        next(f)\n",
    "        next_line = next(f)\n",
    "        if next_line.startswith('*'):\n",
    "            for line in f:\n",
    "                i, j, *_ = re.split('\\s+', line.strip())\n",
    "                i, j = int(i), int(j)\n",
    "                edge = (i, j)\n",
    "                edges.append(edge)\n",
    "        else:\n",
    "            labels.append(re.split('\\s+', next_line.strip())[1])\n",
    "            for line in f:\n",
    "                if line.startswith('*'):\n",
    "                    break\n",
    "                labels.append(re.split('\\s+', line.strip())[1])\n",
    "            for line in f:\n",
    "                i, j, *_ = re.split('\\s+', line.strip())\n",
    "                i, j = int(i), int(j)\n",
    "                edge = (i, j)\n",
    "                edges.append(edge)\n",
    "    if labels:\n",
    "        vertex_attrs = {'label': labels}\n",
    "    else:\n",
    "        vertex_attrs = {}\n",
    "    g = ig.Graph(edges=edges, directed=False, vertex_attrs=vertex_attrs)\n",
    "    g.vs.select(_degree=0).delete()\n",
    "    g = g.simplify()\n",
    "    return g"
   ]
  },
  {
   "cell_type": "code",
   "execution_count": 53,
   "metadata": {},
   "outputs": [],
   "source": [
    "# Make dirs for plots\n",
    "for algorithm in ['Leiden', 'Multi-level', 'Fast-greedy']:\n",
    "    if not os.path.exists(algorithm):\n",
    "        os.makedirs(algorithm)"
   ]
  },
  {
   "cell_type": "code",
   "execution_count": 88,
   "metadata": {},
   "outputs": [
    {
     "name": "stdout",
     "output_type": "stream",
     "text": [
      "/Users/betty/Desktop/CN/Complex-Networks/A3\n",
      "time to compare!  A3-networks/real/cat_cortex_sim.clu\n"
     ]
    },
    {
     "ename": "IndexError",
     "evalue": "list index out of range",
     "output_type": "error",
     "traceback": [
      "\u001b[0;31m---------------------------------------------------------------------------\u001b[0m",
      "\u001b[0;31mIndexError\u001b[0m                                Traceback (most recent call last)",
      "\u001b[0;32m<ipython-input-88-05d10f422762>\u001b[0m in \u001b[0;36m<module>\u001b[0;34m\u001b[0m\n\u001b[1;32m     34\u001b[0m     \u001b[0;32mif\u001b[0m \u001b[0mos\u001b[0m\u001b[0;34m.\u001b[0m\u001b[0mpath\u001b[0m\u001b[0;34m.\u001b[0m\u001b[0mexists\u001b[0m\u001b[0;34m(\u001b[0m\u001b[0;34m\"A3-networks/real/\"\u001b[0m\u001b[0;34m+\u001b[0m \u001b[0mname\u001b[0m\u001b[0;34m.\u001b[0m\u001b[0mreplace\u001b[0m\u001b[0;34m(\u001b[0m\u001b[0;34m\".net\"\u001b[0m\u001b[0;34m,\u001b[0m\u001b[0;34m\".clu\"\u001b[0m\u001b[0;34m)\u001b[0m \u001b[0;34m)\u001b[0m\u001b[0;34m:\u001b[0m\u001b[0;34m\u001b[0m\u001b[0;34m\u001b[0m\u001b[0m\n\u001b[1;32m     35\u001b[0m         \u001b[0mprint\u001b[0m\u001b[0;34m(\u001b[0m\u001b[0;34m\"time to compare! \"\u001b[0m\u001b[0;34m,\u001b[0m\u001b[0;34m\"A3-networks/real/\"\u001b[0m\u001b[0;34m+\u001b[0m \u001b[0mname\u001b[0m\u001b[0;34m.\u001b[0m\u001b[0mreplace\u001b[0m\u001b[0;34m(\u001b[0m\u001b[0;34m\".net\"\u001b[0m\u001b[0;34m,\u001b[0m\u001b[0;34m\".clu\"\u001b[0m\u001b[0;34m)\u001b[0m\u001b[0;34m)\u001b[0m\u001b[0;34m\u001b[0m\u001b[0;34m\u001b[0m\u001b[0m\n\u001b[0;32m---> 36\u001b[0;31m         \u001b[0mreference_g\u001b[0m \u001b[0;34m=\u001b[0m \u001b[0mread_graph\u001b[0m\u001b[0;34m(\u001b[0m\u001b[0;34m\"A3-networks/real/\"\u001b[0m \u001b[0;34m+\u001b[0m \u001b[0mname\u001b[0m\u001b[0;34m.\u001b[0m\u001b[0mreplace\u001b[0m\u001b[0;34m(\u001b[0m\u001b[0;34m\".net\"\u001b[0m\u001b[0;34m,\u001b[0m\u001b[0;34m\".clu\"\u001b[0m\u001b[0;34m)\u001b[0m\u001b[0;34m)\u001b[0m\u001b[0;34m\u001b[0m\u001b[0;34m\u001b[0m\u001b[0m\n\u001b[0m\u001b[1;32m     37\u001b[0m         \u001b[0;31m#reference_leiden = reference_g.community_leiden('modularity', n_iterations=-1)\u001b[0m\u001b[0;34m\u001b[0m\u001b[0;34m\u001b[0m\u001b[0;34m\u001b[0m\u001b[0m\n\u001b[1;32m     38\u001b[0m         \u001b[0;31m#print(compare(leiden, reference_g, method = c(\"vi\", \"nmi\",\"split.join\", \"rand\",\"adjusted.rand\")))\u001b[0m\u001b[0;34m\u001b[0m\u001b[0;34m\u001b[0m\u001b[0;34m\u001b[0m\u001b[0m\n",
      "\u001b[0;32m<ipython-input-10-dc1242b85301>\u001b[0m in \u001b[0;36mread_graph\u001b[0;34m(path)\u001b[0m\n\u001b[1;32m     12\u001b[0m                 \u001b[0medges\u001b[0m\u001b[0;34m.\u001b[0m\u001b[0mappend\u001b[0m\u001b[0;34m(\u001b[0m\u001b[0medge\u001b[0m\u001b[0;34m)\u001b[0m\u001b[0;34m\u001b[0m\u001b[0;34m\u001b[0m\u001b[0m\n\u001b[1;32m     13\u001b[0m         \u001b[0;32melse\u001b[0m\u001b[0;34m:\u001b[0m\u001b[0;34m\u001b[0m\u001b[0;34m\u001b[0m\u001b[0m\n\u001b[0;32m---> 14\u001b[0;31m             \u001b[0mlabels\u001b[0m\u001b[0;34m.\u001b[0m\u001b[0mappend\u001b[0m\u001b[0;34m(\u001b[0m\u001b[0mre\u001b[0m\u001b[0;34m.\u001b[0m\u001b[0msplit\u001b[0m\u001b[0;34m(\u001b[0m\u001b[0;34m'\\s+'\u001b[0m\u001b[0;34m,\u001b[0m \u001b[0mnext_line\u001b[0m\u001b[0;34m.\u001b[0m\u001b[0mstrip\u001b[0m\u001b[0;34m(\u001b[0m\u001b[0;34m)\u001b[0m\u001b[0;34m)\u001b[0m\u001b[0;34m[\u001b[0m\u001b[0;36m1\u001b[0m\u001b[0;34m]\u001b[0m\u001b[0;34m)\u001b[0m\u001b[0;34m\u001b[0m\u001b[0;34m\u001b[0m\u001b[0m\n\u001b[0m\u001b[1;32m     15\u001b[0m             \u001b[0;32mfor\u001b[0m \u001b[0mline\u001b[0m \u001b[0;32min\u001b[0m \u001b[0mf\u001b[0m\u001b[0;34m:\u001b[0m\u001b[0;34m\u001b[0m\u001b[0;34m\u001b[0m\u001b[0m\n\u001b[1;32m     16\u001b[0m                 \u001b[0;32mif\u001b[0m \u001b[0mline\u001b[0m\u001b[0;34m.\u001b[0m\u001b[0mstartswith\u001b[0m\u001b[0;34m(\u001b[0m\u001b[0;34m'*'\u001b[0m\u001b[0;34m)\u001b[0m\u001b[0;34m:\u001b[0m\u001b[0;34m\u001b[0m\u001b[0;34m\u001b[0m\u001b[0m\n",
      "\u001b[0;31mIndexError\u001b[0m: list index out of range"
     ]
    }
   ],
   "source": [
    "#ig.plot(communities, mark_groups=True, layout=layout)\n",
    "! pwd\n",
    "networks = []\n",
    "leiden_mod = []\n",
    "multilevel_mod = []\n",
    "fastgreedy_mod = [] \n",
    "\n",
    "\n",
    "for path in glob(\"A3-networks/real/*.net\"):\n",
    "    name = os.path.basename(path)\n",
    "    networks.append(name) \n",
    "    g = read_graph(path)\n",
    "\n",
    "    #LEIDEN\n",
    "    leiden = g.community_leiden('modularity', n_iterations=-1)\n",
    "    leiden_mod.append(leiden.modularity)\n",
    "    \n",
    "    leiden_plot = ig.plot(leiden, layout = g.layout(\"circle\"), bbox = (300, 300), margin = 20)\n",
    "    leiden_plot.save('Leiden/' + name.replace('.', '_') + \".png\")\n",
    "    \n",
    "    #MULTI-LEVEL\n",
    "    multilevel = g.community_multilevel()\n",
    "    multilevel_mod.append(multilevel.modularity)\n",
    "    \n",
    "    ml_plot = ig.plot(multilevel, layout = g.layout(\"circle\"), bbox = (300, 300), margin = 20)\n",
    "    ml_plot.save('Multi-level/' + name.replace('.', '_') + \".png\")\n",
    "    \n",
    "    #FAST GREEDY\n",
    "    fastgreedy = g.community_fastgreedy().as_clustering()\n",
    "    fastgreedy_mod.append(fastgreedy.modularity)\n",
    "    fg = g.community_fastgreedy()\n",
    "   \n",
    "    #if ground truth exists - compare\n",
    "    if os.path.exists(\"A3-networks/real/\"+ name.replace(\".net\",\".clu\") ):\n",
    "        print(\"time to compare! \",\"A3-networks/real/\"+ name.replace(\".net\",\".clu\"))\n",
    "        reference_g = read_graph(\"A3-networks/real/\" + name.replace(\".net\",\".clu\"))\n",
    "        #reference_leiden = reference_g.community_leiden('modularity', n_iterations=-1)\n",
    "        #print(compare(leiden, reference_g, method = c(\"vi\", \"nmi\",\"split.join\", \"rand\",\"adjusted.rand\")))\n",
    "        \n",
    "        \n",
    "    #PLOT AND SAVE\n",
    "    #fg_plot = ig.plot(fastgreedy, layout = g.layout(\"circle\"), bbox = (300, 300), margin = 20)\n",
    "    #fg_plot.save('Fast-greedy/' + name.replace('.', '_') + \".png\")\n",
    "\n",
    "\n",
    "#SAVE TO TABLE\n",
    "mod = {'Leiden': leiden_mod,\n",
    "        'Multi-level': multilevel_mod,\n",
    "        'Fast-greedy': fastgreedy_mod\n",
    "        }\n",
    "df = pd.DataFrame(mod, columns = ['Leiden','Multi-level', 'Fast-greedy'], index=networks)\n",
    "print(\"\\nMODULARITY TABLE\\n\", df)\n"
   ]
  },
  {
   "cell_type": "code",
   "execution_count": 8,
   "metadata": {},
   "outputs": [],
   "source": [
    "g = ig.load('../real/zachary.net')\n",
    "layout = g.layout_auto()"
   ]
  }
 ],
 "metadata": {
  "kernelspec": {
   "display_name": "Python 3",
   "language": "python",
   "name": "python3"
  },
  "language_info": {
   "codemirror_mode": {
    "name": "ipython",
    "version": 3
   },
   "file_extension": ".py",
   "mimetype": "text/x-python",
   "name": "python",
   "nbconvert_exporter": "python",
   "pygments_lexer": "ipython3",
   "version": "3.8.5"
  }
 },
 "nbformat": 4,
 "nbformat_minor": 4
}
