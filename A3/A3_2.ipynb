{
 "cells": [
  {
   "cell_type": "code",
   "execution_count": null,
   "metadata": {},
   "outputs": [],
   "source": [
    "from functools import partial\n",
    "import sklearn.metrics\n",
    "import networkx as nx\n",
    "from glob import glob\n",
    "import igraph as ig\n",
    "import pandas as pd\n",
    "import numpy as np\n",
    "import re\n",
    "import os"
   ]
  },
  {
   "cell_type": "code",
   "execution_count": null,
   "metadata": {},
   "outputs": [],
   "source": [
    "# Make dirs for plots\n",
    "for algorithm in ['Leiden', 'Multi-level', 'Fast-greedy']:\n",
    "    if not os.path.exists(algorithm):\n",
    "        os.makedirs(algorithm)"
   ]
  },
  {
   "cell_type": "code",
   "execution_count": null,
   "metadata": {},
   "outputs": [],
   "source": [
    "networks = []\n",
    "leiden_mod = []\n",
    "multilevel_mod = []\n",
    "fastgreedy_mod = [] \n",
    "\n",
    "for path in glob(\"../real/*.net\"):\n",
    "    name = os.path.basename(path)[:-4]\n",
    "    networks.append(name)\n",
    "    g = ig.load(path).simplify()\n",
    "    layout = g.layout_auto()\n",
    "    #plot = partial(ig.plot, layout=layout, bbox=(300, 300), margin=20, mark_groups=True)\n",
    "    plot = partial(ig.plot, layout=layout)\n",
    "\n",
    "    #LEIDEN\n",
    "    leiden = g.community_leiden('modularity', n_iterations=-1)\n",
    "    leiden_mod.append(leiden.modularity)\n",
    "    plot(leiden, f\"Leiden/{name}.png\")\n",
    "    \n",
    "    #MULTI-LEVEL\n",
    "    multilevel = g.community_multilevel()\n",
    "    multilevel_mod.append(multilevel.modularity)\n",
    "    plot(multilevel, f\"Multi-level/{name}.png\")\n",
    "    \n",
    "    #FAST GREEDY\n",
    "    fastgreedy = g.community_fastgreedy().as_clustering()\n",
    "    fastgreedy_mod.append(fastgreedy.modularity)\n",
    "    plot(fastgreedy, f\"Fast-greedy/{name}.png\")\n",
    "    \n",
    "    #if ground truth exists - compare\n",
    "    reference_path = path.replace(\".net\", \".clu\")\n",
    "    if os.path.exists(reference_path):\n",
    "        with open(reference_path, 'r') as f:\n",
    "            next(f)\n",
    "            reference = [int(line)-1 for line in f]\n",
    "        #print(compare(leiden, reference, method = c(\"vi\", \"nmi\",\"split.join\", \"rand\",\"adjusted.rand\")))\n",
    "\n",
    "#SAVE TO TABLE\n",
    "mod = {\n",
    "    'Leiden': leiden_mod,\n",
    "    'Multi-level': multilevel_mod,\n",
    "    'Fast-greedy': fastgreedy_mod\n",
    "}\n",
    "df = pd.DataFrame(mod, index=networks)\n",
    "print(\"\\nMODULARITY TABLE\\n\", df)"
   ]
  }
 ],
 "metadata": {
  "kernelspec": {
   "display_name": "Python 3",
   "language": "python",
   "name": "python3"
  },
  "language_info": {
   "codemirror_mode": {
    "name": "ipython",
    "version": 3
   },
   "file_extension": ".py",
   "mimetype": "text/x-python",
   "name": "python",
   "nbconvert_exporter": "python",
   "pygments_lexer": "ipython3",
   "version": "3.8.5"
  }
 },
 "nbformat": 4,
 "nbformat_minor": 4
}
