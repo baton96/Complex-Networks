{
 "cells": [
  {
   "cell_type": "code",
   "execution_count": null,
   "metadata": {},
   "outputs": [],
   "source": [
    "import community as community_louvain\n",
    "from collections import defaultdict\n",
    "from functools import partial\n",
    "import sklearn.metrics\n",
    "import networkx as nx\n",
    "from glob import glob\n",
    "import igraph as ig\n",
    "import pandas as pd\n",
    "import numpy as np\n",
    "import re\n",
    "import os"
   ]
  },
  {
   "cell_type": "code",
   "execution_count": null,
   "metadata": {},
   "outputs": [],
   "source": [
    "# Make dirs for plots\n",
    "for algorithm in ['Leiden', 'Louvain', 'Multi-level', 'Fast-greedy']:\n",
    "    if not os.path.exists(algorithm):\n",
    "        os.makedirs(algorithm)"
   ]
  },
  {
   "cell_type": "code",
   "execution_count": null,
   "metadata": {},
   "outputs": [],
   "source": [
    "metrics = defaultdict(list)\n",
    "networks = []\n",
    "\n",
    "for path in glob(\"../real/*.net\"):\n",
    "    g = ig.load(path).simplify()\n",
    "    \n",
    "    reference_path = path.replace(\".net\", \".clu\")\n",
    "    if os.path.exists(reference_path):\n",
    "        with open(reference_path, 'r') as f:\n",
    "            next(f)\n",
    "            reference = [int(line)-1 for line in f]\n",
    "            reference = ig.VertexClustering(g, reference)\n",
    "    else:\n",
    "        continue\n",
    "    name = os.path.basename(path)[:-4]\n",
    "    networks.append(name)\n",
    "    \n",
    "    layout = g.layout_auto()\n",
    "    #plot = partial(ig.plot, layout=layout, bbox=(300, 300), margin=20, mark_groups=True)\n",
    "    plot = partial(ig.plot, layout=layout)\n",
    "\n",
    "    #LEIDEN\n",
    "    leiden = g.community_leiden('modularity', n_iterations=-1)\n",
    "    plot(leiden, f\"Leiden/{name}.png\")\n",
    "    \n",
    "    #LOUVAIN\n",
    "    louvain = community_louvain.best_partition(g.to_networkx())\n",
    "    louvain = ig.VertexClustering(g, louvain.values())\n",
    "    plot(louvain, f\"Louvain/{name}.png\")\n",
    "    \n",
    "    #MULTI-LEVEL\n",
    "    multilevel = g.community_multilevel()\n",
    "    plot(multilevel, f\"Multi-level/{name}.png\")\n",
    "    \n",
    "    #FAST GREEDY\n",
    "    fastgreedy = g.community_fastgreedy().as_clustering()\n",
    "    plot(fastgreedy, f\"Fast-greedy/{name}.png\")\n",
    "    \n",
    "    communities = {\n",
    "        'leiden': leiden,\n",
    "        'louvain': louvain,\n",
    "        'multilevel': multilevel,\n",
    "        'fastgreedy': fastgreedy,\n",
    "        'reference': reference\n",
    "    }\n",
    "    \n",
    "    metric_methods = {\n",
    "        'vi': partial(ig.compare_communities, reference.membership, method='vi'),\n",
    "        'nmi': partial(ig.compare_communities, reference.membership, method='nmi'),\n",
    "        'jaccard': partial(sklearn.metrics.jaccard_score, reference.membership, average='weighted'),\n",
    "    }\n",
    "    \n",
    "    for community_name, community in communities.items():\n",
    "        metrics[community_name + '_mod'].append(community.modularity)\n",
    "        if community_name == 'reference':\n",
    "            break\n",
    "        for metric_name, metric in metric_methods.items():\n",
    "            metrics[community_name + '_' + metric_name].append(metric(community.membership))\n",
    "#SAVE TO TABLE\n",
    "df = pd.DataFrame(metrics, index=networks)\n",
    "print(\"\\nMODULARITY TABLE\\n\", df.filter(regex=\".*_mod\"))\n",
    "print(\"\\nVI TABLE\\n\", df.filter(regex=\".*_vi\"))\n",
    "print(\"\\nNMI TABLE\\n\", df.filter(regex=\".*_nmi\"))\n",
    "print(\"\\nJACCARD TABLE\\n\", df.filter(regex=\".*_jaccard\"))"
   ]
  }
 ],
 "metadata": {
  "kernelspec": {
   "display_name": "Python 3",
   "language": "python",
   "name": "python3"
  },
  "language_info": {
   "codemirror_mode": {
    "name": "ipython",
    "version": 3
   },
   "file_extension": ".py",
   "mimetype": "text/x-python",
   "name": "python",
   "nbconvert_exporter": "python",
   "pygments_lexer": "ipython3",
   "version": "3.8.5"
  }
 },
 "nbformat": 4,
 "nbformat_minor": 4
}
