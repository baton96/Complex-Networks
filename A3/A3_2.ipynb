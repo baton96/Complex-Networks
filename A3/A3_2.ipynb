{
 "cells": [
  {
   "cell_type": "code",
   "execution_count": 7,
   "metadata": {},
   "outputs": [],
   "source": [
    "import sklearn.metrics\n",
    "import networkx as nx\n",
    "from glob import glob\n",
    "import igraph as ig\n",
    "import numpy as np\n",
    "import re"
   ]
  },
  {
   "cell_type": "code",
   "execution_count": 8,
   "metadata": {},
   "outputs": [],
   "source": [
    "def read_graph(path):\n",
    "    edges = []\n",
    "    labels = []\n",
    "    with open(path, 'r') as f:\n",
    "        next(f)\n",
    "        next_line = next(f)\n",
    "        if next_line.startswith('*'):\n",
    "            for line in f:\n",
    "                i, j, *_ = re.split('\\s+', line.strip())\n",
    "                i, j = int(i), int(j)\n",
    "                edge = (i, j)\n",
    "                edges.append(edge)\n",
    "        else:\n",
    "            labels.append(re.split('\\s+', next_line.strip())[1])\n",
    "            for line in f:\n",
    "                if line.startswith('*'):\n",
    "                    break\n",
    "                labels.append(re.split('\\s+', line.strip())[1])\n",
    "            for line in f:\n",
    "                i, j, *_ = re.split('\\s+', line.strip())\n",
    "                i, j = int(i), int(j)\n",
    "                edge = (i, j)\n",
    "                edges.append(edge)\n",
    "    if labels:\n",
    "        vertex_attrs = {'label': labels}\n",
    "    else:\n",
    "        vertex_attrs = {}\n",
    "    g = ig.Graph(edges=edges, directed=False, vertex_attrs=vertex_attrs)\n",
    "    g.vs.select(_degree=0).delete()\n",
    "    g = g.simplify()\n",
    "    return g"
   ]
  },
  {
   "cell_type": "code",
   "execution_count": 9,
   "metadata": {},
   "outputs": [
    {
     "name": "stdout",
     "output_type": "stream",
     "text": [
      "../real\\airports.net\n",
      "0.7097560706214349\n",
      "0.7050089620718927\n",
      "0.6624902465629291\n",
      "\n",
      "../real\\cat_cortex_sim.net\n",
      "0.26609734168301397\n",
      "0.26609734168301397\n",
      "0.2604355288969367\n",
      "\n",
      "../real\\celegans_metabolic.net\n",
      "0.45120707209266864\n",
      "0.43277073616826706\n",
      "0.4054972107910379\n",
      "\n",
      "../real\\dolphins.net\n",
      "0.5276096673391084\n",
      "0.5213994699576757\n",
      "0.4954906847039279\n",
      "\n",
      "../real\\emailEU.net\n",
      "0.41661686406143345\n",
      "0.41435552416516697\n",
      "0.34137347599765294\n",
      "\n",
      "../real\\emailURV.net\n",
      "0.5818517543649749\n",
      "0.5681883908206941\n",
      "0.5070244399151751\n",
      "\n",
      "../real\\facebook.net\n",
      "0.8358079734529854\n",
      "0.834723679025471\n",
      "0.7773806408102407\n",
      "\n",
      "../real\\football.net\n",
      "0.6045695626834571\n",
      "0.6045695626834571\n",
      "0.5497406651426808\n",
      "\n",
      "../real\\jazz.net\n",
      "0.44487125467043975\n",
      "0.44330819023419904\n",
      "0.4389078153753829\n",
      "\n",
      "../real\\lastfm.net\n",
      "0.8183056625846973\n",
      "0.8136363188151954\n",
      "0.7966054632778499\n",
      "\n",
      "../real\\PGP.net\n",
      "0.8865230693345868\n",
      "0.8823473679583896\n",
      "0.8524877707879339\n",
      "\n",
      "../real\\zachary.net\n",
      "0.41978961209730437\n",
      "0.4188034188034188\n",
      "0.38067061143984227\n",
      "\n"
     ]
    }
   ],
   "source": [
    "#ig.plot(communities, mark_groups=True, layout=layout)\n",
    "for path in glob('../real/*.net'):\n",
    "    print(path)\n",
    "    g = read_graph(path)\n",
    "    leiden = g.community_leiden('modularity', n_iterations=-1)\n",
    "    print(leiden.modularity)\n",
    "    multilevel = g.community_multilevel()\n",
    "    print(multilevel.modularity)\n",
    "    fastgreedy = g.community_fastgreedy().as_clustering()\n",
    "    print(fastgreedy.modularity)\n",
    "    print()"
   ]
  },
  {
   "cell_type": "code",
   "execution_count": 10,
   "metadata": {},
   "outputs": [],
   "source": [
    "g = ig.load('../real/zachary.net')\n",
    "layout = g.layout_auto()"
   ]
  }
 ],
 "metadata": {
  "kernelspec": {
   "display_name": "Python 3",
   "language": "python",
   "name": "python3"
  },
  "language_info": {
   "codemirror_mode": {
    "name": "ipython",
    "version": 3
   },
   "file_extension": ".py",
   "mimetype": "text/x-python",
   "name": "python",
   "nbconvert_exporter": "python",
   "pygments_lexer": "ipython3",
   "version": "3.7.9"
  }
 },
 "nbformat": 4,
 "nbformat_minor": 4
}
