{
 "cells": [
  {
   "cell_type": "code",
   "execution_count": 18,
   "metadata": {},
   "outputs": [],
   "source": [
    "#! /usr/local/Cellar/jupyterlab/2.2.8/libexec/bin/python3.8 -m pip install networkx\n",
    "import sklearn.metrics\n",
    "import networkx as nx\n",
    "from glob import glob\n",
    "import igraph as ig\n",
    "import numpy as np\n",
    "import pandas as pd\n",
    "import re\n",
    "import os"
   ]
  },
  {
   "cell_type": "code",
   "execution_count": 10,
   "metadata": {},
   "outputs": [],
   "source": [
    "def read_graph(path):\n",
    "    edges = []\n",
    "    labels = []\n",
    "    with open(path, 'r') as f:\n",
    "        next(f)\n",
    "        next_line = next(f)\n",
    "        if next_line.startswith('*'):\n",
    "            for line in f:\n",
    "                i, j, *_ = re.split('\\s+', line.strip())\n",
    "                i, j = int(i), int(j)\n",
    "                edge = (i, j)\n",
    "                edges.append(edge)\n",
    "        else:\n",
    "            labels.append(re.split('\\s+', next_line.strip())[1])\n",
    "            for line in f:\n",
    "                if line.startswith('*'):\n",
    "                    break\n",
    "                labels.append(re.split('\\s+', line.strip())[1])\n",
    "            for line in f:\n",
    "                i, j, *_ = re.split('\\s+', line.strip())\n",
    "                i, j = int(i), int(j)\n",
    "                edge = (i, j)\n",
    "                edges.append(edge)\n",
    "    if labels:\n",
    "        vertex_attrs = {'label': labels}\n",
    "    else:\n",
    "        vertex_attrs = {}\n",
    "    g = ig.Graph(edges=edges, directed=False, vertex_attrs=vertex_attrs)\n",
    "    g.vs.select(_degree=0).delete()\n",
    "    g = g.simplify()\n",
    "    return g"
   ]
  },
  {
   "cell_type": "code",
   "execution_count": 53,
   "metadata": {},
   "outputs": [],
   "source": [
    "# Make dirs for plots\n",
    "for algorithm in ['Leiden', 'Multi-level', 'Fast-greedy']:\n",
    "    if not os.path.exists(algorithm):\n",
    "        os.makedirs(algorithm)"
   ]
  },
  {
   "cell_type": "code",
   "execution_count": 60,
   "metadata": {},
   "outputs": [
    {
     "name": "stdout",
     "output_type": "stream",
     "text": [
      "MODULARITY TABLE\n",
      "                           Leiden  Multi-level  Fast-greedy\n",
      "emailEU.net             0.416260     0.402844     0.341373\n",
      "cat_cortex_sim.net      0.266097     0.266097     0.260436\n",
      "lastfm.net              0.818160     0.813778     0.796605\n",
      "dolphins.net            0.527610     0.523338     0.495491\n",
      "airports_UW.net         0.709798     0.691898     0.662490\n",
      "PGP.net                 0.886520     0.882340     0.852488\n",
      "emailURV.net            0.581637     0.542581     0.507024\n",
      "zachary.net             0.419790     0.418803     0.380671\n",
      "facebook.net            0.835705     0.834786     0.777381\n",
      "football.net            0.604570     0.604570     0.549741\n",
      "jazz.net                0.445144     0.443080     0.438908\n",
      "celegans_metabolic.net  0.451453     0.440695     0.405497\n"
     ]
    }
   ],
   "source": [
    "#ig.plot(communities, mark_groups=True, layout=layout)\n",
    "\n",
    "networks = []\n",
    "leiden_mod = []\n",
    "multilevel_mod = []\n",
    "fastgreedy_mod = [] \n",
    "\n",
    "\n",
    "for path in glob('../real/*.net'):\n",
    "    name = os.path.basename(path)\n",
    "    networks.append(name) \n",
    "    g = read_graph(path)\n",
    "    \n",
    "    #LEIDEN\n",
    "    leiden = g.community_leiden('modularity', n_iterations=-1)\n",
    "    leiden_mod.append(leiden.modularity)\n",
    "    \n",
    "    leiden_plot = ig.plot(leiden, bbox = (300, 300), margin = 20)\n",
    "    leiden_plot.save('Leiden/' + name.replace('.', '_') + \".png\")\n",
    "    \n",
    "    #MULTI-LEVEL\n",
    "    multilevel = g.community_multilevel()\n",
    "    multilevel_mod.append(multilevel.modularity)\n",
    "    \n",
    "    ml_plot = ig.plot(multilevel, bbox = (300, 300), margin = 20)\n",
    "    ml_plot.save('Multi-level/' + name.replace('.', '_') + \".png\")\n",
    "    \n",
    "    #FAST GREEDY\n",
    "    fastgreedy = g.community_fastgreedy().as_clustering()\n",
    "    fastgreedy_mod.append(fastgreedy.modularity)\n",
    "    fg = g.community_fastgreedy()\n",
    "    \n",
    "    fg_plot = ig.plot(fastgreedy, bbox = (300, 300), margin = 20)\n",
    "    fg_plot.save('Fast-greedy/' + name.replace('.', '_') + \".png\")\n",
    "\n",
    "\n",
    "#SAVE TO TABLE\n",
    "mod = {'Leiden': leiden_mod,\n",
    "        'Multi-level': multilevel_mod,\n",
    "        'Fast-greedy': fastgreedy_mod\n",
    "        }\n",
    "df = pd.DataFrame(mod, columns = ['Leiden','Multi-level', 'Fast-greedy'], index=networks)\n",
    "print(\"MODULARITY TABLE\\n\", df)\n",
    "\n"
   ]
  },
  {
   "cell_type": "code",
   "execution_count": 8,
   "metadata": {},
   "outputs": [],
   "source": [
    "g = ig.load('../real/zachary.net')\n",
    "layout = g.layout_auto()"
   ]
  }
 ],
 "metadata": {
  "kernelspec": {
   "display_name": "Python 3",
   "language": "python",
   "name": "python3"
  },
  "language_info": {
   "codemirror_mode": {
    "name": "ipython",
    "version": 3
   },
   "file_extension": ".py",
   "mimetype": "text/x-python",
   "name": "python",
   "nbconvert_exporter": "python",
   "pygments_lexer": "ipython3",
   "version": "3.8.5"
  }
 },
 "nbformat": 4,
 "nbformat_minor": 4
}
