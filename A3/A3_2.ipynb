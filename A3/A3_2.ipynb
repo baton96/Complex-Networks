{
 "cells": [
  {
   "cell_type": "code",
   "execution_count": null,
   "metadata": {},
   "outputs": [],
   "source": [
    "from sklearn.metrics import jaccard_score\n",
    "import community as community_louvain\n",
    "from collections import defaultdict\n",
    "#import matplotlib.pyplot as plt\n",
    "from functools import partial\n",
    "from glob import glob\n",
    "import igraph as ig\n",
    "import pandas as pd\n",
    "import leidenalg\n",
    "import os"
   ]
  },
  {
   "cell_type": "code",
   "execution_count": null,
   "metadata": {},
   "outputs": [],
   "source": [
    "# Make dirs for plots\n",
    "for algorithm in ['leiden', 'louvain', 'multilevel', 'fastgreedy', 'reference']:\n",
    "    if not os.path.exists(algorithm):\n",
    "        os.makedirs(algorithm)"
   ]
  },
  {
   "cell_type": "code",
   "execution_count": null,
   "metadata": {},
   "outputs": [],
   "source": [
    "metrics = defaultdict(list)\n",
    "networks = []\n",
    "\n",
    "for path in glob(\"../real/*.net\"):\n",
    "    reference_path = path.replace(\".net\", \".clu\")\n",
    "    if os.path.exists(reference_path):\n",
    "        with open(reference_path, 'r') as f:\n",
    "            next(f)\n",
    "            reference = [int(line)-1 for line in f]\n",
    "    else:\n",
    "        continue\n",
    "    \n",
    "    name = os.path.basename(path)[:-4]\n",
    "    networks.append(name)\n",
    "    \n",
    "    g = ig.load(path).simplify()\n",
    "    reference = ig.VertexClustering(g, reference)\n",
    "    plot = partial(ig.plot, layout=g.layout_auto())    \n",
    "    #plot = partial(ig.plot, layout=g.layout_auto(), bbox=(300, 300), margin=20, mark_groups=True)\n",
    "    \n",
    "    communities = {\n",
    "        'leiden': leidenalg.find_partition(g, leidenalg.ModularityVertexPartition),\n",
    "        #'leiden': g.community_leiden('modularity', n_iterations=-1),        \n",
    "        'louvain': ig.VertexClustering(\n",
    "            g,\n",
    "            community_louvain.best_partition(\n",
    "                g.to_networkx()\n",
    "            ).values()\n",
    "        ),\n",
    "        'multilevel': g.community_multilevel(),\n",
    "        'fastgreedy': g.community_fastgreedy().as_clustering(),\n",
    "        'reference': reference\n",
    "    }\n",
    "    \n",
    "    metric_methods = {\n",
    "        'vi': partial(ig.compare_communities, reference.membership, method='vi'),\n",
    "        'nmi': partial(ig.compare_communities, reference.membership, method='nmi'),\n",
    "        'jaccard': partial(jaccard_score, reference.membership, average='weighted'),\n",
    "    }\n",
    "    \n",
    "    #fig, axs = plt.subplots(2, 2)\n",
    "    #for ax, (community_name, community) in zip(axs.flat, communities.items()):\n",
    "    #    plot(community, target=ax)\n",
    "    #plt.show()\n",
    "    \n",
    "    vcount = g.vcount()\n",
    "    for community_name, community in communities.items():\n",
    "        with open(f\"{community_name}/{name}.clu\", \"w\") as f:\n",
    "            f.write(f'*Vertices {vcount}\\n')\n",
    "            f.write('\\n'.join([str(i+1) for i in community.membership]))\n",
    "        metrics[community_name + '_mod'].append(community.modularity)\n",
    "        plot(community, f\"{community_name}/{name}.png\")\n",
    "        if community_name == 'reference':\n",
    "            break\n",
    "        for metric_name, metric in metric_methods.items():\n",
    "            metrics[community_name + '_' + metric_name].append(metric(community.membership))\n",
    "#SAVE TO TABLE\n",
    "df = pd.DataFrame(metrics, index=networks)\n",
    "#print(\"\\nMODULARITY TABLE\\n\", df.filter(regex=\".*_mod\"))\n",
    "#print(\"\\nVI TABLE\\n\", df.filter(regex=\".*_vi\"))\n",
    "#print(\"\\nNMI TABLE\\n\", df.filter(regex=\".*_nmi\"))\n",
    "#print(\"\\nJACCARD TABLE\\n\", df.filter(regex=\".*_jaccard\"))"
   ]
  }
 ],
 "metadata": {
  "kernelspec": {
   "display_name": "Python 3",
   "language": "python",
   "name": "python3"
  },
  "language_info": {
   "codemirror_mode": {
    "name": "ipython",
    "version": 3
   },
   "file_extension": ".py",
   "mimetype": "text/x-python",
   "name": "python",
   "nbconvert_exporter": "python",
   "pygments_lexer": "ipython3",
   "version": "3.8.5"
  }
 },
 "nbformat": 4,
 "nbformat_minor": 4
}
