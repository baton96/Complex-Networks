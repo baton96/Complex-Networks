{
 "cells": [
  {
   "cell_type": "code",
   "execution_count": null,
   "metadata": {},
   "outputs": [],
   "source": [
    "from random import random, choices, randrange, choice\n",
    "from collections import defaultdict\n",
    "import matplotlib.pyplot as plt\n",
    "from time import time\n",
    "from glob import glob\n",
    "import igraph as ig"
   ]
  },
  {
   "cell_type": "code",
   "execution_count": null,
   "metadata": {},
   "outputs": [],
   "source": [
    "n_rep = 50 # 100 # number of repetitions of the simulation\n",
    "p = 0.2 # initial fraction of infected nodes\n",
    "t_max = 1000 # maximum number of time steps of each simulation\n",
    "t_trans = 900 # number of steps of the transitory"
   ]
  },
  {
   "cell_type": "code",
   "execution_count": null,
   "metadata": {},
   "outputs": [],
   "source": [
    "g = ig.load('../real/airports.net') # our graph\n",
    "vcount = g.vcount() # number of vertices\n",
    "print(vcount) # to check if it has more than 500 vertices\n",
    "infected_original = [random() < p for _ in range(vcount)] # True = Infected, False = Susceptible\n",
    "neighbors = {v.index: [neighbor.index for neighbor in v.neighbors()] for v in g.vs}\n",
    "# {vertex_id: ids of vertex neighbors}\n",
    "del g # we dont need it anymore"
   ]
  },
  {
   "cell_type": "code",
   "execution_count": null,
   "metadata": {},
   "outputs": [],
   "source": [
    "def foo(a, b):\n",
    "    total_avg_r = 0\n",
    "    for _ in range(n_rep):\n",
    "        infected_old = infected_original[:]\n",
    "        infected_new = infected_old[:]\n",
    "        total_avg_t = 0\n",
    "        for t in range(t_max):\n",
    "            for i, state in enumerate(infected_new):\n",
    "                if state: #=='I'\n",
    "                    if random() < a:\n",
    "                        infected_new[i] = False #=='S'\n",
    "                else: #=='S'\n",
    "                    for neighbor in neighbors[i]:\n",
    "                        if infected_old[neighbor] and random() < b:\n",
    "                            infected_new[i] = True #=='I'\n",
    "                            break\n",
    "            infected_old, infected_new = infected_new, infected_old\n",
    "            if t >= t_trans:\n",
    "                total_avg_t += sum(infected_new)/vcount\n",
    "        total_avg_r += total_avg_t/(t_max-t_trans)\n",
    "    return total_avg_r/n_rep"
   ]
  },
  {
   "cell_type": "code",
   "execution_count": null,
   "metadata": {},
   "outputs": [],
   "source": [
    "start = time()\n",
    "print(foo(0.5, 0.5))\n",
    "print(time()-start)"
   ]
  },
  {
   "cell_type": "code",
   "execution_count": 5,
   "metadata": {},
   "outputs": [
    {
     "name": "stdout",
     "output_type": "stream",
     "text": [
      "small\\smallAirports.net\n",
      "small\\smallBA.net\n",
      "small\\smallGNM.net\n",
      "small\\smallWS.net\n",
      "medium\\mediumAirports.net\n",
      "medium\\mediumBA.net\n",
      "medium\\mediumGNM.net\n",
      "medium\\mediumWS.net\n",
      "big\\bigAirports.net\n",
      "big\\bigBA.net\n",
      "big\\bigGNM.net\n",
      "big\\bigWS.net\n"
     ]
    }
   ],
   "source": [
    "import subprocess\n",
    "from glob import glob\n",
    "\n",
    "paths = []\n",
    "for path in glob(\"small/*.net\"):\n",
    "    paths.append(path)\n",
    "for path in glob(\"medium/*.net\"):\n",
    "    paths.append(path)\n",
    "for path in glob(\"big/*.net\"):\n",
    "    paths.append(path)\n",
    "for path in paths:\n",
    "    print(path)\n",
    "    subprocess.run([\"a.exe\", path])"
   ]
  }
 ],
 "metadata": {
  "kernelspec": {
   "display_name": "Python 3",
   "language": "python",
   "name": "python3"
  },
  "language_info": {
   "codemirror_mode": {
    "name": "ipython",
    "version": 3
   },
   "file_extension": ".py",
   "mimetype": "text/x-python",
   "name": "python",
   "nbconvert_exporter": "python",
   "pygments_lexer": "ipython3",
   "version": "3.7.9"
  }
 },
 "nbformat": 4,
 "nbformat_minor": 4
}
