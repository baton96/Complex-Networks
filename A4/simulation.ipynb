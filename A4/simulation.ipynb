{
 "cells": [
  {
   "cell_type": "code",
   "execution_count": null,
   "metadata": {},
   "outputs": [],
   "source": [
    "from random import random, choices, randrange, choice\n",
    "from collections import defaultdict\n",
    "import matplotlib.pyplot as plt\n",
    "from time import time\n",
    "from glob import glob\n",
    "import igraph as ig"
   ]
  },
  {
   "cell_type": "code",
   "execution_count": null,
   "metadata": {},
   "outputs": [],
   "source": [
    "n_rep = 50 # 100 # number of repetitions of the simulation\n",
    "p = 0.2 # initial fraction of infected nodes\n",
    "t_max = 1000 # maximum number of time steps of each simulation\n",
    "t_trans = 900 # number of steps of the transitory"
   ]
  },
  {
   "cell_type": "code",
   "execution_count": null,
   "metadata": {},
   "outputs": [],
   "source": [
    "g = ig.load('../real/airports.net') # our graph\n",
    "vcount = g.vcount() # number of vertices\n",
    "print(vcount) # to check if it has more than 500 vertices\n",
    "infected_original = [random() < p for _ in range(vcount)] # True = Infected, False = Susceptible\n",
    "neighbors = {v.index: [neighbor.index for neighbor in v.neighbors()] for v in g.vs}\n",
    "# {vertex_id: ids of vertex neighbors}\n",
    "del g # we dont need it anymore"
   ]
  },
  {
   "cell_type": "code",
   "execution_count": null,
   "metadata": {},
   "outputs": [],
   "source": [
    "def foo(a, b):\n",
    "    total_avg_r = 0\n",
    "    for _ in range(n_rep):\n",
    "        infected_old = infected_original[:]\n",
    "        infected_new = infected_old[:]\n",
    "        total_avg_t = 0\n",
    "        for t in range(t_max):\n",
    "            for i, state in enumerate(infected_new):\n",
    "                if state: #=='I'\n",
    "                    if random() < a:\n",
    "                        infected_new[i] = False #=='S'\n",
    "                else: #=='S'\n",
    "                    for neighbor in neighbors[i]:\n",
    "                        if infected_old[neighbor] and random() < b:\n",
    "                            infected_new[i] = True #=='I'\n",
    "                            break\n",
    "            infected_old, infected_new = infected_new, infected_old\n",
    "            if t >= t_trans:\n",
    "                total_avg_t += sum(infected_new)/vcount\n",
    "        total_avg_r += total_avg_t/(t_max-t_trans)\n",
    "    return total_avg_r/n_rep"
   ]
  },
  {
   "cell_type": "code",
   "execution_count": null,
   "metadata": {},
   "outputs": [],
   "source": [
    "start = time()\n",
    "print(foo(0.5, 0.5))\n",
    "print(time()-start)"
   ]
  },
  {
   "cell_type": "code",
   "execution_count": 5,
   "metadata": {},
   "outputs": [
    {
     "name": "stdout",
     "output_type": "stream",
     "text": [
      "small\\smallAirports.net\n",
      "small\\smallBA.net\n",
      "small\\smallGNM.net\n",
      "small\\smallWS.net\n",
      "medium\\mediumAirports.net\n",
      "medium\\mediumBA.net\n",
      "medium\\mediumGNM.net\n",
      "medium\\mediumWS.net\n",
      "big\\bigAirports.net\n",
      "big\\bigBA.net\n",
      "big\\bigGNM.net\n",
      "big\\bigWS.net\n"
     ]
    }
   ],
   "source": [
    "import subprocess\n",
    "from glob import glob\n",
    "\n",
    "paths = []\n",
    "for path in glob(\"small/*.net\"):\n",
    "    paths.append(path)\n",
    "for path in glob(\"medium/*.net\"):\n",
    "    paths.append(path)\n",
    "for path in glob(\"big/*.net\"):\n",
    "    paths.append(path)\n",
    "for path in paths:\n",
    "    print(path)\n",
    "    #subprocess.run([\"a.exe\", path])"
   ]
  },
  {
   "cell_type": "code",
   "execution_count": null,
   "metadata": {},
   "outputs": [],
   "source": [
    "def mmca(a, b, infected_original, neighbors):\n",
    "    infected_old = infected_original[:]\n",
    "    avg = 0\n",
    "    for _ in range(1000):\n",
    "        infected_new = []\n",
    "        for i, state in enumerate(infected_old):\n",
    "            q = 1\n",
    "            for neighbor in neighbors[i]:\n",
    "                q *= 1 - b*infected_old[neighbor]\n",
    "            new_state = (1-state)*(1-q) + state*(1-a)\n",
    "            infected_new.append(new_state)\n",
    "        new_avg = sum(infected_new)/len(infected_new)\n",
    "        if new_avg == avg:\n",
    "            return avg\n",
    "        avg = new_avg\n",
    "        infected_old = infected_new\n",
    "    else:\n",
    "        return 0"
   ]
  },
  {
   "cell_type": "code",
   "execution_count": null,
   "metadata": {},
   "outputs": [],
   "source": [
    "def mmca2(path, a, b):\n",
    "    g = ig.load(path) # our graph\n",
    "    vcount = g.vcount() # number of vertices\n",
    "    infected_original = [random() < p for _ in range(vcount)] # True = Infected, False = Susceptible\n",
    "    neighbors = {v.index: [neighbor.index for neighbor in v.neighbors()] for v in g.vs}\n",
    "    # {vertex_id: ids of vertex neighbors}\n",
    "    del g # we dont need it anymore\n",
    "    for i in range(51):\n",
    "        if i==0: \n",
    "            print(0.5, 0, 0)\n",
    "            continue\n",
    "        print(\n",
    "            0.5, \n",
    "            i/50, \n",
    "            mmca(0.5, i/50, infected_original, neighbors)\n",
    "        )"
   ]
  },
  {
   "cell_type": "code",
   "execution_count": null,
   "metadata": {},
   "outputs": [
    {
     "name": "stdout",
     "output_type": "stream",
     "text": [
      "0.5 0 0\n",
      "0.5 0.02 0.045563078218338354\n",
      "0.5 0.04 0.10186034521465936\n",
      "0.5 0.06 0.14602637286339315\n",
      "0.5 0.08 0.18521457949380835\n",
      "0.5 0.1 0.22119723141365064\n",
      "0.5 0.12 0.25415407010339036\n",
      "0.5 0.14 0.2841656351774778\n",
      "0.5 0.16 0.31141063596068025\n",
      "0.5 0.18 0.3361358036554654\n",
      "0.5 0.2 0.358609498785032\n",
      "0.5 0.22 0.3790876728873643\n",
      "0.5 0.24 0.39779955266767075\n",
      "0.5 0.26 0.4149448006116047\n",
      "0.5 0.28 0.4306944301889999\n",
      "0.5 0.3 0.44519411428638217\n",
      "0.5 0.32 0.45857049137664885\n",
      "0.5 0.34 0.47093617094150997\n",
      "0.5 0.36 0.48239168459898996\n",
      "0.5 0.38 0.49302637812425176\n",
      "0.5 0.4 0.5029193519848909\n",
      "0.5 0.42 0.5121405279081418\n",
      "0.5 0.44 0.5207517242400378\n",
      "0.5 0.46 0.5288076619623603\n",
      "0.5 0.48 0.5363568692435225\n",
      "0.5 0.5 0.5434424778526726\n",
      "0.5 0.52 0.5501029164682119\n",
      "0.5 0.54 0.5563725105685089\n",
      "0.5 0.56 0.5622819999006594\n",
      "0.5 0.58 0.5678589843044038\n",
      "0.5 0.6 0.5731283077993455\n",
      "0.5 0.62 0.5781123897451957\n",
      "0.5 0.64 0.5828315107575812\n",
      "0.5 0.66 0.5873040599998539\n",
      "0.5 0.68 0.591546749512022\n",
      "0.5 0.7 0.5955748003943864\n",
      "0.5 0.72 0.599402104933562\n",
      "0.5 0.74 0\n",
      "0.5 0.76 0.6065042315798568\n",
      "0.5 0.78 0.6098013821273573\n",
      "0.5 0.8 0.6129426475002925\n",
      "0.5 0.82 0.6159370806033985\n",
      "0.5 0.84 0.6187930340521675\n",
      "0.5 0.86 0.6215182262168794\n",
      "0.5 0.88 0.6241197998821096\n",
      "0.5 0.9 0.626604374464921\n",
      "0.5 0.92 0.6289780926000242\n",
      "0.5 0.94 0.6312466617869975\n",
      "0.5 0.96 0.6334153916983054\n",
      "0.5 0.98 0.635489227665203\n",
      "0.5 1.0 0\n"
     ]
    }
   ],
   "source": [
    "for i in range(51):\n",
    "    if i==0: \n",
    "        print(0.5, 0, 0)\n",
    "        continue\n",
    "    print(\n",
    "        0.5, \n",
    "        i/50, \n",
    "        mmca(0.5, i/50, infected_original, neighbors)\n",
    "    )"
   ]
  }
 ],
 "metadata": {
  "kernelspec": {
   "display_name": "Python 3",
   "language": "python",
   "name": "python3"
  },
  "language_info": {
   "codemirror_mode": {
    "name": "ipython",
    "version": 3
   },
   "file_extension": ".py",
   "mimetype": "text/x-python",
   "name": "python",
   "nbconvert_exporter": "python",
   "pygments_lexer": "ipython3",
   "version": "3.7.9"
  }
 },
 "nbformat": 4,
 "nbformat_minor": 4
}
