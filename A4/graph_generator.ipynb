{
 "cells": [
  {
   "cell_type": "code",
   "execution_count": null,
   "metadata": {},
   "outputs": [],
   "source": [
    "from random import choices, randrange, choice\n",
    "from collections import defaultdict\n",
    "import igraph as ig"
   ]
  },
  {
   "cell_type": "code",
   "execution_count": null,
   "metadata": {},
   "outputs": [],
   "source": [
    "def postprocess(g):\n",
    "    alone_nodes = g.vs(_degree_eq=0)\n",
    "    if alone_nodes:\n",
    "        for alone_node in alone_nodes:\n",
    "            while True:\n",
    "                random_edge = choice(g.es)\n",
    "                source = random_edge.source\n",
    "                target = random_edge.target\n",
    "                if g.vs[source].degree()>2 and g.vs[target].degree()>2:\n",
    "                    g.delete_edges(random_edge)\n",
    "                    g.add_edge(alone_node.index, target)\n",
    "                    break\n",
    "    return g"
   ]
  },
  {
   "cell_type": "code",
   "execution_count": null,
   "metadata": {},
   "outputs": [],
   "source": [
    "g = ig.load('../real/airports.net') # our graph\n",
    "print(g.summary())\n",
    "degree = g.degree()\n",
    "print(sum(degree)/len(degree))\n",
    "print()\n",
    "\n",
    "g.delete_vertices(v.index for _, v in sorted(zip(g.degree(), g.vs))[:-500])\n",
    "ecount = g.ecount()\n",
    "g.delete_edges(sample(range(ecount), ecount-1000))\n",
    "g = postprocess(g)\n",
    "\n",
    "print(g.summary())\n",
    "degree = g.degree()\n",
    "print(sum(degree)/len(degree))\n",
    "print(len(g.vs(_degree_eq=0)))"
   ]
  },
  {
   "cell_type": "code",
   "execution_count": null,
   "metadata": {},
   "outputs": [],
   "source": [
    "def WS(n):\n",
    "    g = ig.Graph(n)\n",
    "    sources = list(range(n))\n",
    "    for i in (1, 2):\n",
    "        targets = sources[i:] + sources[0:i]\n",
    "        g.add_edges(list(zip(sources, targets)))\n",
    "    return g\n",
    "\n",
    "g = WS(500)\n",
    "print(g.summary())\n",
    "degree = g.degree()\n",
    "print(sum(degree)/len(degree))\n",
    "print(len(g.vs(_degree_eq=0)))"
   ]
  },
  {
   "cell_type": "code",
   "execution_count": null,
   "metadata": {},
   "outputs": [],
   "source": [
    "def BA(n, m, m0):\n",
    "    vertices = list(range(m0))\n",
    "    forbiddenEdges = set()\n",
    "    degrees = [m0-1] * m0    \n",
    "    edges = []\n",
    "    \n",
    "    g = ig.Graph(n)\n",
    "    for i in range(m0):\n",
    "        for j in range(i+1, m0):\n",
    "            edges.append((i, j))\n",
    "    g.add_edges(edges)\n",
    "    edges = []\n",
    "    for index in range(m0, n):\n",
    "        forbiddenEdges.clear()      \n",
    "        count = 0\n",
    "        while count < m:\n",
    "            target = choices(vertices, degrees)[0]\n",
    "            if target not in forbiddenEdges:\n",
    "                edges.append((index, target))\n",
    "                forbiddenEdges.add(target)\n",
    "                degrees[target] += 1                \n",
    "                count += 1\n",
    "        vertices.append(index)\n",
    "        degrees.append(m)\n",
    "\n",
    "    g.add_edges(edges)\n",
    "    return g\n",
    "\n",
    "#g = BA(3618, 3, 85)\n",
    "#g = BA(3618, 4, 4)\n",
    "g = BA(500, 2, 5)\n",
    "print(g.summary())\n",
    "degree = g.degree()\n",
    "print(sum(degree)/len(degree))\n",
    "print(len(g.vs(_degree_eq=0)))\n",
    "#14142"
   ]
  },
  {
   "cell_type": "code",
   "execution_count": null,
   "metadata": {},
   "outputs": [],
   "source": [
    "def GNM(n, m):\n",
    "    forbiddenEdges = defaultdict(set)\n",
    "    rangeSet = set(range(n))\n",
    "    edges = []\n",
    "    for _ in range(m):\n",
    "        i = randrange(n)\n",
    "        j = choice(tuple(\n",
    "            rangeSet.difference(forbiddenEdges[i].union({i}))\n",
    "        ))\n",
    "        forbiddenEdges[i].add(j)\n",
    "        forbiddenEdges[j].add(i)\n",
    "        edges.append((i,j))\n",
    "    g = ig.Graph(n) \n",
    "    g.add_edges(edges)\n",
    "    return g\n",
    "\n",
    "g = GNM(3618, 14142)\n",
    "#g = GNM(500, 1000)\n",
    "g = postprocess(g)\n",
    "print(g.summary())\n",
    "degree = g.degree()\n",
    "print(sum(degree)/len(degree))\n",
    "print(len(g.vs(_degree_eq=0)))"
   ]
  }
 ],
 "metadata": {
  "kernelspec": {
   "display_name": "Python 3",
   "language": "python",
   "name": "python3"
  },
  "language_info": {
   "codemirror_mode": {
    "name": "ipython",
    "version": 3
   },
   "file_extension": ".py",
   "mimetype": "text/x-python",
   "name": "python",
   "nbconvert_exporter": "python",
   "pygments_lexer": "ipython3",
   "version": "3.7.9"
  }
 },
 "nbformat": 4,
 "nbformat_minor": 4
}
