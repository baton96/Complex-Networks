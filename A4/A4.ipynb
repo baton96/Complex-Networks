{
 "cells": [
  {
   "cell_type": "code",
   "execution_count": 25,
   "metadata": {},
   "outputs": [],
   "source": [
    "import xml.etree.ElementTree as ET\n",
    "from time import time\n",
    "import pandas as pd\n",
    "import igraph as ig\n",
    "import collections\n",
    "import itertools\n",
    "import re"
   ]
  },
  {
   "cell_type": "code",
   "execution_count": 46,
   "metadata": {},
   "outputs": [],
   "source": [
    "langs = ['Polish', 'English', 'Spanish']\n",
    "books = ['MAT', 'MAR', 'LUK', 'JOH']"
   ]
  },
  {
   "cell_type": "code",
   "execution_count": 16,
   "metadata": {},
   "outputs": [],
   "source": [
    "for lang in langs:\n",
    "    root = ET.fromstring(open(f'xml/{lang}.xml', encoding='utf-8').read())\n",
    "    with open(f'txt/{lang}.txt', 'w', encoding='utf-8') as out:        \n",
    "        for book in books:\n",
    "            for seg in root.findall(f'.//div[@id=\"b.{book}\"]/*seg'):             \n",
    "                out.write(seg.text.strip() + '\\n')"
   ]
  },
  {
   "cell_type": "code",
   "execution_count": 44,
   "metadata": {},
   "outputs": [],
   "source": [
    "for lang in langs:\n",
    "    ids = collections.defaultdict(itertools.count().__next__)\n",
    "    edges = set()\n",
    "    words = []\n",
    "    with open(f'txt/{lang}.txt', 'r', encoding='utf-8') as f:\n",
    "        for line in f:\n",
    "            words.extend(re.sub('[^a-z ]', '', line.lower().replace('&quot;', '')).split(' '))    \n",
    "    for i, j in zip(words, words[1:]):\n",
    "        source, target = ids[i], ids[j]\n",
    "        if ((source, target) not in edges) and ((target, source) not in edges):\n",
    "            edges.add((source, target))\n",
    "    n = list(ids.values())[-1] + 1\n",
    "\n",
    "    g = ig.Graph()\n",
    "    g.add_vertices(n)\n",
    "    g.add_edges(edges)\n",
    "    g.save(f'net/{lang}.net')\n",
    "    #ig.plot(g)"
   ]
  },
  {
   "cell_type": "code",
   "execution_count": 49,
   "metadata": {},
   "outputs": [],
   "source": [
    "for lang in langs:    \n",
    "    g = ig.load(f'net/{lang}.net')\n",
    "    degrees = g.degree()\n",
    "    row = {}\n",
    "    row[\"Number of nodes\"] = g.vcount()\n",
    "    row[\"Number of edges\"] = g.ecount()  \n",
    "    row[\"Minimum degree\"] = min(degrees) \n",
    "    row[\"Maximum degree\"] = max(degrees) \n",
    "    row[\"Average degree\"] = sum(degrees)/len(degrees) \n",
    "    row[\"Average clustering coefficient\"] = g.transitivity_avglocal_undirected() \n",
    "    row[\"Assortativity\"] = g.assortativity_degree() \n",
    "    row[\"Average path length\"] = g.average_path_length()\n",
    "    row[\"Diameter\"] = g.diameter()\n",
    "    pd.DataFrame([row]).round(4).to_csv(f'csv/{lang}.csv')"
   ]
  },
  {
   "cell_type": "code",
   "execution_count": 28,
   "metadata": {},
   "outputs": [
    {
     "data": {
      "image/png": "[encoded data removed]",
      "text/plain": [
       "<Figure size 432x288 with 1 Axes>"
      ]
     },
     "metadata": {
      "needs_background": "light"
     },
     "output_type": "display_data"
    }
   ],
   "source": [
    "import matplotlib.pyplot as plt\n",
    "\n",
    "weighted = {\n",
    "    \"Poznanzki\": 0.25,\n",
    "    \"Traffic\": 0.63,\n",
    "    \"NovotelCentrum\": 0.97,\n",
    "    \"DonPrestige\": 0.76,\n",
    "    \"Forza\": 0.53,\n",
    "    \"PoznanClassApartm\": 0.66,\n",
    "    \"NewHotel\": 0.4\n",
    "}\n",
    "weightedSorted =  dict(sorted(weighted.items(), key=lambda x:x[1]))\n",
    "\n",
    "simple = {\n",
    "    \"Poznanzki\": 0.475,\n",
    "    \"Traffic\": 0.525,\n",
    "    \"NovotelCentrum\": 0.925,\n",
    "    \"DonPrestige\": 0.55,\n",
    "    \"Forza\": 0.65,\n",
    "    \"PoznanClassApartm\": 0.525,\n",
    "    \"NewHotel\": 0.25\n",
    "}\n",
    "simpleSorted =  {key: simple[key] for key in weightedSorted.keys()}\n",
    "\n",
    "OWA = {\n",
    "    \"Poznanzki\": 0.49,\n",
    "    \"Traffic\": 0.6,\n",
    "    \"NovotelCentrum\": 0.97,\n",
    "    \"DonPrestige\": 0.55,\n",
    "    \"Forza\": 0.71000004,\n",
    "    \"PoznanClassApartm\": 0.51,\n",
    "    \"NewHotel\": 0.1\n",
    "}\n",
    "OWASorted =  {key: OWA[key] for key in weightedSorted.keys()}\n",
    "\n",
    "disjunctive = {\n",
    "    \"Poznanzki\": 0.86,\n",
    "    \"Traffic\": 0.7,\n",
    "    \"NovotelCentrum\": 1.0,\n",
    "    \"DonPrestige\": 0.92,\n",
    "    \"Forza\": 0.86,\n",
    "    \"PoznanClassApartm\": 0.8,\n",
    "    \"NewHotel\": 0.6\n",
    "}\n",
    "disjunctiveSorted =  {key: disjunctive[key] for key in weightedSorted.keys()}\n",
    "\n",
    "conjunctive = {\n",
    "    \"Poznanzki\": 0.31,\n",
    "    \"Traffic\": 0.43,\n",
    "    \"NovotelCentrum\": 0.88,\n",
    "    \"DonPrestige\": 0.39000002,\n",
    "    \"Forza\": 0.54,\n",
    "    \"PoznanClassApartm\": 0.39000002,\n",
    "    \"NewHotel\": 0.1\n",
    "}\n",
    "conjunctiveSorted =  {key: conjunctive[key] for key in weightedSorted.keys()}\n",
    "\n",
    "plt.scatter(weightedSorted.values(), weightedSorted.keys(), label=\"Weighted\")\n",
    "plt.scatter(simpleSorted.values(), simpleSorted.keys(), label=\"Non-Weighted\")\n",
    "plt.scatter(OWASorted.values(), OWASorted.keys(), label=\"OWA\")\n",
    "plt.scatter(disjunctiveSorted.values(), disjunctiveSorted.keys(), label=\"Disjunctive OWA\")\n",
    "plt.scatter(conjunctiveSorted.values(), conjunctiveSorted.keys(), label=\"Conjunctive OWA\")\n",
    "plt.legend()\n",
    "plt.show()"
   ]
  }
 ],
 "metadata": {
  "kernelspec": {
   "display_name": "Python 3",
   "language": "python",
   "name": "python3"
  },
  "language_info": {
   "codemirror_mode": {
    "name": "ipython",
    "version": 3
   },
   "file_extension": ".py",
   "mimetype": "text/x-python",
   "name": "python",
   "nbconvert_exporter": "python",
   "pygments_lexer": "ipython3",
   "version": "3.7.9"
  }
 },
 "nbformat": 4,
 "nbformat_minor": 4
}
